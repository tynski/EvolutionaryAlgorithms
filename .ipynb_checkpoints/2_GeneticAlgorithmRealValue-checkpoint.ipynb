{
 "cells": [
  {
   "cell_type": "markdown",
   "metadata": {
    "colab_type": "text",
    "id": "Y10yNlrUhQZj"
   },
   "source": [
    "Based on the code used during the 1st class, let us prepare a real-value genetic algorithm for solving De Jong problem (in the beginning). In order to do this we should modify all the representation-dependent parts of the algorithm:\n",
    "\n",
    "\n",
    "1.   Prepare a dedicated fitness function, it should return a fitness value for a given individual.\n",
    "2.   Modify the variation operators (mutation and crossover).\n",
    "3.   Modify the initialization function.\n",
    "4.   After it works, let us play with the parameters, examining how they affect the efficacy and efficiency of the algorithm:\n",
    "  *   probability of mutation\n",
    "  *   range of mutation\n",
    "  *   length of chromosome\n",
    "  *   number of individuals\n",
    "  *   number of generations\n",
    "  *   etc. - we'll continue during the next class with different problems and different operators.\n",
    "\n",
    "\n"
   ]
  },
  {
   "cell_type": "markdown",
   "metadata": {
    "colab_type": "text",
    "id": "LawHVjGnjSAg"
   },
   "source": [
    "First, let us focus on creating a starting population. Remember we have to use real-value based representation (real value genes)."
   ]
  },
  {
   "cell_type": "code",
   "execution_count": 1,
   "metadata": {
    "colab": {},
    "colab_type": "code",
    "id": "wenz4Px_jXOn"
   },
   "outputs": [],
   "source": [
    "import random\n",
    "import numpy as np\n",
    "\n",
    "hipercube = 5.12\n",
    "def create_starting_population(individuals, chromosome_length, hipercube):\n",
    "    # Set up an initial array of all zeros\n",
    "    population = np.zeros((individuals, chromosome_length))\n",
    "    # Loop through each row (individual)\n",
    "    for i in range(individuals):\n",
    "        for j in range(chromosome_length):\n",
    "          population[i,j]=random.uniform(-hipercube, hipercube)    \n",
    "    return population"
   ]
  },
  {
   "cell_type": "markdown",
   "metadata": {
    "colab_type": "text",
    "id": "1yoKoi9tjaFG"
   },
   "source": [
    "Let's try to use the code above to create sample populations. Of course this should be a two-dimensional array of genotypes. Let us change the number of individuals and the length of chromosomes."
   ]
  },
  {
   "cell_type": "code",
   "execution_count": 3,
   "metadata": {
    "colab": {
     "base_uri": "https://localhost:8080/",
     "height": 187
    },
    "colab_type": "code",
    "id": "BgZ-LcqUjdoU",
    "outputId": "817bfe7b-a84c-4546-b74f-8e1642fdcd2c"
   },
   "outputs": [
    {
     "name": "stdout",
     "output_type": "stream",
     "text": [
      "[[-2.55597226  0.68820014  4.956497    3.37047417  4.2478423 ]\n",
      " [ 2.78748897  4.7499695   0.6299398   4.14067558 -2.61889525]\n",
      " [-1.9288871  -5.02640158 -4.08345827 -4.11095151 -3.98937676]\n",
      " [-1.0666994   2.6512111   2.91963747 -0.62233358 -0.01025909]\n",
      " [-3.20959091 -0.39197623 -0.43343577 -3.29267369  2.2496287 ]\n",
      " [-1.67077506  3.37483411 -4.7348085  -1.93095987 -2.25468056]\n",
      " [-3.80409983  0.07951836  1.91924739 -4.34109973  0.53359872]\n",
      " [-4.33621561  3.75712614  3.20674693 -0.32859827 -4.41698753]\n",
      " [ 3.17262901 -2.27640185 -2.31688258  1.70209208 -3.0023598 ]\n",
      " [ 2.68781749  1.57682054 -0.74801318  2.1228256  -3.50260917]]\n"
     ]
    }
   ],
   "source": [
    "print (create_starting_population(10, 5, 5.12))"
   ]
  },
  {
   "cell_type": "markdown",
   "metadata": {
    "colab_type": "text",
    "id": "3AhKGkink3v4"
   },
   "source": [
    "Let us create a real-value fitness function. In the beginning let it be the De Jong function http://www.geatbx.com/docu/fcnindex-01.html - a very simple convex one.\n"
   ]
  },
  {
   "cell_type": "markdown",
   "metadata": {},
   "source": [
    "# DeJong"
   ]
  },
  {
   "cell_type": "code",
   "execution_count": 4,
   "metadata": {
    "colab": {},
    "colab_type": "code",
    "id": "atyVX5B_k77Y"
   },
   "outputs": [],
   "source": [
    "def calculate_fitness(population):\n",
    "    fitness_scores = np.zeros(len(population)) \n",
    "    for i in range(len(population)):\n",
    "      current_fitness = 0\n",
    "      for j in range(len(population[i])):\n",
    "        current_fitness += population[i,j] * population[i,j]\n",
    "      fitness_scores[i]=current_fitness\n",
    "    return fitness_scores"
   ]
  },
  {
   "cell_type": "markdown",
   "metadata": {},
   "source": [
    "# Rastrigin"
   ]
  },
  {
   "cell_type": "code",
   "execution_count": 5,
   "metadata": {},
   "outputs": [],
   "source": [
    "import math\n",
    "def calculate_fitness(population):\n",
    "    fitness_scores = np.zeros(len(population))\n",
    "    for i in range(len(population)):\n",
    "      n = 1\n",
    "      current_fitness = 0\n",
    "      dupa = 0 \n",
    "      for j in range(len(population[i])):        \n",
    "         dupa += (population[i,j]* population[i,j])-(10*math.cos(2*math.pi*population[i,j]))\n",
    "      fitness_scores[i]= 10*n + dupa\n",
    "      n+=1\n",
    "    return fitness_scores\n",
    "    "
   ]
  },
  {
   "cell_type": "markdown",
   "metadata": {
    "colab_type": "text",
    "id": "BdnVR4G8k-ur"
   },
   "source": [
    "And try this function. Note that for 2d arrays, axis=0 will sum the \"columns\" while axis=1 will sum the \"rows\". fitness_scores will thus hold the number of genes equal to the reference."
   ]
  },
  {
   "cell_type": "code",
   "execution_count": 7,
   "metadata": {
    "colab": {
     "base_uri": "https://localhost:8080/",
     "height": 204
    },
    "colab_type": "code",
    "id": "L0tDQRKAlBk2",
    "outputId": "8dc5abc1-d240-46ed-ce81-8f3582f4173b"
   },
   "outputs": [
    {
     "name": "stdout",
     "output_type": "stream",
     "text": [
      "\n",
      "Starting population: \n",
      " [[-0.19505111 -2.95080061 -3.44249755]\n",
      " [-0.81725414 -0.93348883  2.65496986]\n",
      " [ 1.47389979  2.01901308  1.00587369]\n",
      " [-4.65711482 -0.54057544  0.24419691]\n",
      " [-0.37053024 -2.95594523  3.29501476]\n",
      " [ 4.77680004  4.41536763  2.79076895]]\n",
      "\n",
      "Scores: \n",
      " [27.04009745 10.97008713  7.20449082 46.86325104 29.7732108  64.51122108]\n"
     ]
    }
   ],
   "source": [
    "population = create_starting_population(6, 3, 5.12)\n",
    "print ('\\nStarting population: \\n', population)\n",
    "scores = calculate_fitness(population)\n",
    "print('\\nScores: \\n', scores)"
   ]
  },
  {
   "cell_type": "markdown",
   "metadata": {
    "colab_type": "text",
    "id": "3YYIObqQld0-"
   },
   "source": [
    "The code for defining the selection method follows. This is a tournament selection. Note we have to choose the individual with lower fitness - this is a minimization problem."
   ]
  },
  {
   "cell_type": "code",
   "execution_count": 9,
   "metadata": {
    "colab": {},
    "colab_type": "code",
    "id": "WKXkq2sPlieh"
   },
   "outputs": [],
   "source": [
    "def select_individual_by_tournament(population, scores):\n",
    "    # Get population size\n",
    "    population_size = len(scores)\n",
    "    \n",
    "    # Pick individuals for tournament\n",
    "    fighter_1 = random.randint(0, population_size-1)\n",
    "    fighter_2 = random.randint(0, population_size-1)\n",
    "    \n",
    "    # Get fitness score for each\n",
    "    fighter_1_fitness = scores[fighter_1]\n",
    "    fighter_2_fitness = scores[fighter_2]\n",
    "    \n",
    "    # Identify undividual with highest fitness\n",
    "    # Fighter 1 will win if score are equal\n",
    "    if fighter_1_fitness <= fighter_2_fitness:\n",
    "        winner = fighter_1\n",
    "    else:\n",
    "        winner = fighter_2\n",
    "    \n",
    "    # Return the chromosome of the winner\n",
    "    return population[winner, :]"
   ]
  },
  {
   "cell_type": "markdown",
   "metadata": {
    "colab_type": "text",
    "id": "5gd-fAnYlmFl"
   },
   "source": [
    "Let us try this."
   ]
  },
  {
   "cell_type": "code",
   "execution_count": 11,
   "metadata": {
    "colab": {
     "base_uri": "https://localhost:8080/",
     "height": 85
    },
    "colab_type": "code",
    "id": "zDYlw01ulnPu",
    "outputId": "42f40e44-c3bd-4205-8dba-5cfeb222e252"
   },
   "outputs": [
    {
     "name": "stdout",
     "output_type": "stream",
     "text": [
      "[ 1.70049154  2.18904551  1.45475983  0.40308193 -2.81890583  3.5182906\n",
      "  1.87468375  0.18248393  4.18710937 -4.7829245 ]\n",
      "[-3.24204464  3.79250362  2.98701544  3.26234985 -0.38798401 -2.99293062\n",
      "  0.02485773 -1.63419804  1.71896399  4.75602962]\n"
     ]
    }
   ],
   "source": [
    "# Set up and score population\n",
    "population = create_starting_population(6, 10, 5.12)\n",
    "scores = calculate_fitness(population)\n",
    "\n",
    "\n",
    "\n",
    "# Pick two parents and display\n",
    "parent_1 = select_individual_by_tournament(population, scores)\n",
    "parent_2 = select_individual_by_tournament(population, scores)\n",
    "print (parent_1)\n",
    "print (parent_2)"
   ]
  },
  {
   "cell_type": "markdown",
   "metadata": {
    "colab_type": "text",
    "id": "5uzSHKLvUbC4"
   },
   "source": [
    "Let us define the crossover method. Crossover is dependent on the representation, however the Python dynamic typing allows us to leave its implementation intact."
   ]
  },
  {
   "cell_type": "code",
   "execution_count": 20,
   "metadata": {
    "colab": {},
    "colab_type": "code",
    "id": "cy_-YcIBmJ5a"
   },
   "outputs": [],
   "source": [
    "def breed_by_crossover(parent_1, parent_2):\n",
    "    # Get length of chromosome\n",
    "    chromosome_length = len(parent_1)\n",
    "    \n",
    "    # Pick crossover point, avoding ends of chromsome\n",
    "    crossover_point = random.randint(1,chromosome_length-1)\n",
    "    \n",
    "    # Create children. np.hstack joins two arrays\n",
    "    #child_1 = np.hstack((parent_1[0:crossover_point],\n",
    "     #                   parent_2[crossover_point:]))\n",
    "    \n",
    "   # child_2 = np.hstack((parent_2[0:crossover_point],\n",
    "    #                    parent_1[crossover_point:]))\n",
    "    child_1 = [parent_1[i] if random.randint(0,1) < 0.5 else parent_2[i] for i in range(len(parent_1))]\n",
    "    child_2 = [parent_1[i] if random.randint(0,1) < 0.5 else parent_2[i] for i in range(len(parent_1))]\n",
    "    # Return children\n",
    "    return child_1, child_2\n",
    "\n",
    "def discrete_crossover(parent_1, parent_2):\n",
    "    child = []\n",
    "    for i in range(parent_1):\n",
    "        if random.randint < 0.5:\n",
    "            child.append(parent_1[i])\n",
    "        else:\n",
    "            child.append(parent_2[i])"
   ]
  },
  {
   "cell_type": "markdown",
   "metadata": {
    "colab_type": "text",
    "id": "u_tIYDZlmiH1"
   },
   "source": [
    "And test this of course."
   ]
  },
  {
   "cell_type": "code",
   "execution_count": 21,
   "metadata": {
    "colab": {
     "base_uri": "https://localhost:8080/",
     "height": 187
    },
    "colab_type": "code",
    "id": "sUJvUb9EmjWR",
    "outputId": "59192760-bb5d-46c4-874b-d5f041102e02"
   },
   "outputs": [
    {
     "name": "stdout",
     "output_type": "stream",
     "text": [
      "Parents\n",
      "[ 3.47556849 -2.68947024 -0.25840624  1.21446186  3.65005521 -2.88580542\n",
      " -0.35463237 -3.27664675 -1.71349411 -0.41160133]\n",
      "[ 0.36964203  3.19531245 -0.34576965 -1.37210134  3.62229458  3.99483344\n",
      "  3.8316148   1.07302237 -1.73042657 -2.42865481]\n",
      "Children\n",
      "[0.36964202906773114, 3.195312450543141, -0.2584062380275052, -1.3721013398891397, 3.6222945838227814, 3.9948334412807336, -0.354632370617491, -3.2766467485069177, -1.730426566181769, -2.4286548136745636]\n",
      "[3.4755684867575463, 3.195312450543141, -0.34576964882481853, 1.2144618624595207, 3.6500552112602174, 3.9948334412807336, -0.354632370617491, 1.073022374401381, -1.730426566181769, -2.4286548136745636]\n"
     ]
    }
   ],
   "source": [
    "# Set up and score population\n",
    "population = create_starting_population(100, 10, 5.12)\n",
    "scores = calculate_fitness(population)\n",
    "\n",
    "# Pick two parents and dispplay\n",
    "parent_1 = select_individual_by_tournament(population, scores)\n",
    "parent_2 = select_individual_by_tournament(population, scores)\n",
    "\n",
    "# Get children\n",
    "child_1, child_2 = breed_by_crossover(parent_1, parent_2)\n",
    "\n",
    "# Show output\n",
    "print ('Parents')\n",
    "print (parent_1)\n",
    "print (parent_2)\n",
    "print ('Children')\n",
    "print (child_1)\n",
    "print (child_2)"
   ]
  },
  {
   "cell_type": "markdown",
   "metadata": {
    "colab_type": "text",
    "id": "Lg2UFi-tpu5K"
   },
   "source": [
    "Now the procedure for random mutation follows. We can't flip the gene - now it should be randomly modified. Say, we will add a small distortion to each gene, chosen from the range [-0.1,0.1] - of course the deviation should be a parameter of the algorithm."
   ]
  },
  {
   "cell_type": "code",
   "execution_count": 22,
   "metadata": {
    "colab": {},
    "colab_type": "code",
    "id": "y2EZmNcfpylQ"
   },
   "outputs": [],
   "source": [
    "def randomly_mutate_population(population, mutation_probability):\n",
    "    \n",
    "    # Apply random mutation      \n",
    "        for i in range(len(population)):\n",
    "          for j in range(len(population[1])):\n",
    "            if random.uniform(0,1) < mutation_probability:\n",
    "              population[i,j] += random.uniform(-0.01,0.01)\n",
    "\n",
    "        # Return mutation population\n",
    "        return population"
   ]
  },
  {
   "cell_type": "markdown",
   "metadata": {
    "colab_type": "text",
    "id": "s35uGPOep0eu"
   },
   "source": [
    "And let us test this one too."
   ]
  },
  {
   "cell_type": "code",
   "execution_count": 24,
   "metadata": {
    "colab": {
     "base_uri": "https://localhost:8080/",
     "height": 255
    },
    "colab_type": "code",
    "id": "aNxiSJ3Up2jw",
    "outputId": "9b94179b-290a-454f-e8c0-09ee53947e0b"
   },
   "outputs": [
    {
     "name": "stdout",
     "output_type": "stream",
     "text": [
      "Population before mutation\n",
      "[[ 0.84033661  4.00914879 -4.96437777 -0.94001239 -4.4954313  -3.40141931\n",
      "  -1.25135434 -3.88568783 -4.81894746  2.83134532 -1.62996342 -0.01354118\n",
      "   4.1765532   3.43790168  2.9288566 ]\n",
      " [ 0.84033661  4.00914879 -4.96437777 -2.13340995 -4.4954313  -3.57228107\n",
      "  -1.25135434 -3.88568783  0.93724304  1.95493199  4.38617313 -0.01354118\n",
      "   4.1765532   0.46668497 -2.38292091]]\n",
      "Population after mutation\n",
      "[[ 0.84033661  4.00674215 -4.96437777 -0.94001239 -4.4954313  -3.40141931\n",
      "  -1.25135434 -3.89515121 -4.81894746  2.83134532 -1.62996342 -0.01354118\n",
      "   4.1765532   3.43790168  2.92042649]\n",
      " [ 0.84580578  4.00914879 -4.96437777 -2.14004708 -4.48934212 -3.57228107\n",
      "  -1.25135434 -3.88568783  0.93724304  1.95493199  4.38617313 -0.01354118\n",
      "   4.18311728  0.46668497 -2.38292091]]\n"
     ]
    }
   ],
   "source": [
    "population = create_starting_population(100, 15, 5.12)\n",
    "scores = calculate_fitness(population)\n",
    "\n",
    "# Pick two parents and display\n",
    "parent_1 = select_individual_by_tournament(population, scores)\n",
    "parent_2 = select_individual_by_tournament(population, scores)\n",
    "\n",
    "# Get children and make new population \n",
    "child_1, child_2 = breed_by_crossover(parent_1, parent_2)\n",
    "population = np.stack((child_1, child_2))\n",
    "\n",
    "# Mutate population\n",
    "mutation_probability = 0.25\n",
    "print (\"Population before mutation\")\n",
    "print (population)\n",
    "population = randomly_mutate_population(population, mutation_probability)\n",
    "print (\"Population after mutation\")\n",
    "print (population)"
   ]
  },
  {
   "cell_type": "markdown",
   "metadata": {
    "colab_type": "text",
    "id": "_OszMxJ9Uj1O"
   },
   "source": [
    "The code of the main algorithm follows."
   ]
  },
  {
   "cell_type": "code",
   "execution_count": 27,
   "metadata": {
    "colab": {
     "base_uri": "https://localhost:8080/",
     "height": 313
    },
    "colab_type": "code",
    "id": "bUjESRvFgPeb",
    "outputId": "1dbff623-001d-444c-9302-a465278e4125"
   },
   "outputs": [
    {
     "name": "stdout",
     "output_type": "stream",
     "text": [
      "Starting best score, % target:  59.680030093740235\n",
      "End best score, % target:  -63.84586394656594\n"
     ]
    },
    {
     "data": {
      "text/plain": [
       "<Figure size 640x480 with 1 Axes>"
      ]
     },
     "metadata": {},
     "output_type": "display_data"
    }
   ],
   "source": [
    "# *************************************\n",
    "# ******** MAIN ALGORITHM CODE ********\n",
    "# *************************************\n",
    "\n",
    "# Set general parameters\n",
    "chromosome_length = 10\n",
    "population_size = 30\n",
    "maximum_generation = 200\n",
    "best_score_progress = [] # Tracks progress\n",
    "hipercube = 5.12\n",
    "\n",
    "# Create starting population\n",
    "population = create_starting_population(population_size, chromosome_length, hipercube)\n",
    "\n",
    "# Display best score in starting population\n",
    "scores = calculate_fitness(population)\n",
    "best_score = np.min(scores)\n",
    "print ('Starting best score, % target: ',best_score)\n",
    "\n",
    "# Add starting best score to progress tracker\n",
    "best_score_progress.append(best_score)\n",
    "\n",
    "# Now we'll go through the generations of genetic algorithm\n",
    "for generation in range(maximum_generation):\n",
    "    # Create an empty list for new population\n",
    "    new_population = []\n",
    "    \n",
    "    # Create new popualtion generating two children at a time\n",
    "    for i in range(int(population_size/2)):\n",
    "        parent_1 = select_individual_by_tournament(population, scores)\n",
    "        parent_2 = select_individual_by_tournament(population, scores)\n",
    "        child_1, child_2 = breed_by_crossover(parent_1, parent_2)\n",
    "        new_population.append(child_1)\n",
    "        new_population.append(child_2)\n",
    "    \n",
    "    # Replace the old population with the new one\n",
    "    population = np.array(new_population)\n",
    "\n",
    "    # Apply mutation\n",
    "    mutation_rate = 0.2\n",
    "    population = randomly_mutate_population(population, mutation_rate)\n",
    "    \n",
    "    # Score best solution, and add to tracker\n",
    "    scores = calculate_fitness(population)\n",
    "    best_score = np.min(scores)\n",
    "    best_score_progress.append(best_score)\n",
    "\n",
    "# GA has completed required generation\n",
    "print ('End best score, % target: ', best_score)\n"
   ]
  },
  {
   "cell_type": "code",
   "execution_count": 28,
   "metadata": {},
   "outputs": [
    {
     "data": {
      "image/png": "[encoded data removed]",
      "text/plain": [
       "<Figure size 432x288 with 1 Axes>"
      ]
     },
     "metadata": {
      "needs_background": "light"
     },
     "output_type": "display_data"
    }
   ],
   "source": [
    "# Plot progress\n",
    "import matplotlib.pyplot as plt\n",
    "plt.plot(best_score_progress)\n",
    "plt.xlabel('Generation')\n",
    "plt.ylabel('Best score (% target)')\n",
    "plt.show()"
   ]
  },
  {
   "cell_type": "markdown",
   "metadata": {
    "colab_type": "text",
    "id": "9XGB6R5EiL4T"
   },
   "source": [
    "Adapted from: [https://pythonhealthcare.org/](https://pythonhealthcare.org/) prepared by Michael Allen \n",
    "m.allen@exeter.ac.uk"
   ]
  }
 ],
 "metadata": {
  "colab": {
   "collapsed_sections": [],
   "name": "2-GeneticAlgorithmRealValue.ipynb",
   "provenance": []
  },
  "kernelspec": {
   "display_name": "Python 3",
   "language": "python",
   "name": "python3"
  },
  "language_info": {
   "codemirror_mode": {
    "name": "ipython",
    "version": 3
   },
   "file_extension": ".py",
   "mimetype": "text/x-python",
   "name": "python",
   "nbconvert_exporter": "python",
   "pygments_lexer": "ipython3",
   "version": "3.7.4"
  }
 },
 "nbformat": 4,
 "nbformat_minor": 1
}
