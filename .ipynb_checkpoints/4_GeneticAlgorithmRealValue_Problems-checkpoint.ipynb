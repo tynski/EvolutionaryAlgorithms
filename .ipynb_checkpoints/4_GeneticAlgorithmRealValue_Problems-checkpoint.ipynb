{
 "cells": [
  {
   "cell_type": "markdown",
   "metadata": {
    "colab_type": "text",
    "id": "Y10yNlrUhQZj"
   },
   "source": [
    "Based on a code from 3rd laboratories let us realize a competition. \n",
    "We will be solving the following problems:\n",
    "1. De Jong\n",
    "2. Rastrigin\n",
    "3. Schwefel\n",
    "in several dimensions.\n",
    "\n",
    "using the following components and parameters:\n",
    "1. Selection: tournament, roulette.\n",
    "2. Crossover: single point, discrete, randomaverage.\n",
    "3. Mutation: uniform, gaussian, boundary.\n",
    "4. Mutation probability, mutation range.\n",
    "\n",
    "\n",
    "after setting the general parameters by the teacher (problem, dimension, number of generation) please do a number of experiments looking for optimal parameters. Then the parameters will be entered into the online spreadsheet and run together by the teacher while you will be trying  to solve another problem. \n",
    "\n",
    "\n",
    "\n",
    "\n"
   ]
  },
  {
   "cell_type": "code",
   "execution_count": 0,
   "metadata": {
    "colab": {},
    "colab_type": "code",
    "id": "wenz4Px_jXOn"
   },
   "outputs": [],
   "source": [
    "import random\n",
    "import numpy as np\n",
    "import sys\n",
    "import math\n",
    "\n",
    "def create_starting_population(individuals, chromosome_length, hypercube_size):\n",
    "    # Set up an initial array of all zeros\n",
    "    population = np.zeros((individuals, chromosome_length))\n",
    "    # Loop through each row (individual)\n",
    "    for i in range(individuals):\n",
    "        for j in range(chromosome_length):\n",
    "          population[i,j]=random.uniform(-hypercube_size,hypercube_size)    \n",
    "    return population\n",
    "\n"
   ]
  },
  {
   "cell_type": "markdown",
   "metadata": {
    "colab_type": "text",
    "id": "1yoKoi9tjaFG"
   },
   "source": [
    "Let's try to use the code above to create sample populations. Of course this should be a two-dimensional array of genotypes. Let us change the number of individuals and the length of chromosomes."
   ]
  },
  {
   "cell_type": "code",
   "execution_count": 138,
   "metadata": {
    "colab": {
     "base_uri": "https://localhost:8080/",
     "height": 187
    },
    "colab_type": "code",
    "id": "BgZ-LcqUjdoU",
    "outputId": "744fdbb1-ce17-426f-f4cd-705b26f27a9c"
   },
   "outputs": [
    {
     "name": "stdout",
     "output_type": "stream",
     "text": [
      "[[-0.08757663 -0.99939511 -0.94991469 -3.81534547  4.11428367]\n",
      " [ 5.04639032 -4.7665147   2.68997677 -5.00992777 -1.65003683]\n",
      " [ 3.41023039 -4.49024491 -0.64058238  1.92760613 -1.31287371]\n",
      " [-3.15086554  4.62498867  4.90293792  1.95115657 -3.58253597]\n",
      " [ 4.18713216  3.7423073   1.21484174  3.80547047 -3.9075679 ]\n",
      " [ 3.70411538  1.1608042   2.959327   -0.43971583 -0.39060145]\n",
      " [ 3.33128616 -2.31678469 -1.44988352  2.21594876  2.83264092]\n",
      " [-1.88687117  4.24990729  4.29435621 -0.12516412 -0.69560752]\n",
      " [-0.24167132 -2.30182069  0.71597603 -4.49441504 -1.82103205]\n",
      " [ 4.98203486 -2.7451788  -5.09835247  1.58218555  3.84178254]]\n"
     ]
    }
   ],
   "source": [
    "print (create_starting_population(10, 5,5.12))"
   ]
  },
  {
   "cell_type": "markdown",
   "metadata": {
    "colab_type": "text",
    "id": "3AhKGkink3v4"
   },
   "source": [
    "Let us create a real-value fitness function. In the beginning let it be the De Jong function http://www.geatbx.com/docu/fcnindex-01.html - a very simple convex one.\n"
   ]
  },
  {
   "cell_type": "code",
   "execution_count": 0,
   "metadata": {
    "colab": {},
    "colab_type": "code",
    "id": "atyVX5B_k77Y"
   },
   "outputs": [],
   "source": [
    "def calculate_fitness_dejong(population):\n",
    "    fitness_scores = np.zeros(len(population))\n",
    "    for i in range(len(population)):\n",
    "      current_fitness = 0\n",
    "      for j in range(len(population[i])):\n",
    "        current_fitness += population[i,j] * population[i,j]\n",
    "      fitness_scores[i]=current_fitness\n",
    "    return fitness_scores\n",
    "\n",
    "def calculate_fitness_rastrigin(population):\n",
    "    fitness_scores = np.zeros(len(population))\n",
    "    for i in range(len(population)):\n",
    "      current_fitness = 10 * len(population[i])\n",
    "      for j in range(len(population[i])):\n",
    "        current_fitness += population[i,j] * population[i,j] - 10 * math.cos(2*math.pi* population[i,j])        \n",
    "      fitness_scores[i]=current_fitness\n",
    "    return fitness_scores\n",
    "\n",
    "def calculate_fitness_schwefel(population):\n",
    "    fitness_scores = np.zeros(len(population))\n",
    "    dim = len(population[0])\n",
    "    for i in range(len(population)):\n",
    "      current_fitness = 418.9829 * dim\n",
    "      for j in range(len(population[i])):\n",
    "        current_fitness -= population[i,j] * math.sin(math.sqrt(math.fabs(population[i,j])))\n",
    "      fitness_scores[i]=current_fitness\n",
    "    return fitness_scores"
   ]
  },
  {
   "cell_type": "markdown",
   "metadata": {
    "colab_type": "text",
    "id": "BdnVR4G8k-ur"
   },
   "source": [
    "And try this function. Note that for 2d arrays, axis=0 will sum the \"columns\" while axis=1 will sum the \"rows\". fitness_scores will thus hold the number of genes equal to the reference."
   ]
  },
  {
   "cell_type": "code",
   "execution_count": 140,
   "metadata": {
    "colab": {
     "base_uri": "https://localhost:8080/",
     "height": 221
    },
    "colab_type": "code",
    "id": "L0tDQRKAlBk2",
    "outputId": "c7a99469-78b4-444b-8484-33ea72c72079"
   },
   "outputs": [
    {
     "name": "stdout",
     "output_type": "stream",
     "text": [
      "\n",
      "Starting population: \n",
      " [[ 4.95276879  1.59748842 -4.14390729]\n",
      " [-1.15176016  3.20324624 -2.33830594]\n",
      " [-1.56919751  0.42125664  4.40124222]\n",
      " [ 0.96027284 -5.0212771  -0.7948575 ]\n",
      " [-1.633732   -4.78094524  3.54025745]\n",
      " [-4.33740625  2.34950362  0.2064211 ]]\n",
      "\n",
      "Scores: \n",
      " [1255.20128125 1257.17030657 1254.38072471 1260.70537556 1259.04520473\n",
      " 1258.29182885]\n"
     ]
    }
   ],
   "source": [
    "population = create_starting_population(6, 3,5.12)\n",
    "print ('\\nStarting population: \\n', population)\n",
    "scores = calculate_fitness_schwefel(population)\n",
    "#scores = getattr(sys.modules[__name__], \"calculate_fitness\")(population)\n",
    "\n",
    "print('\\nScores: \\n', scores)"
   ]
  },
  {
   "cell_type": "markdown",
   "metadata": {
    "colab_type": "text",
    "id": "3YYIObqQld0-"
   },
   "source": [
    "The code for defining the selection method follows. This is a tournament selection. Note we have to choose the individual with lower fitness - this is a minimization problem."
   ]
  },
  {
   "cell_type": "code",
   "execution_count": 0,
   "metadata": {
    "colab": {},
    "colab_type": "code",
    "id": "WKXkq2sPlieh"
   },
   "outputs": [],
   "source": [
    "def select_individual_by_tournament(population, scores):\n",
    "    # Get population size\n",
    "    population_size = len(scores)\n",
    "    \n",
    "    # Pick individuals for tournament\n",
    "    fighter_1 = random.randint(0, population_size-1)\n",
    "    fighter_2 = random.randint(0, population_size-1)\n",
    "    \n",
    "    # Get fitness score for each\n",
    "    fighter_1_fitness = scores[fighter_1]\n",
    "    fighter_2_fitness = scores[fighter_2]\n",
    "    \n",
    "    # Identify undividual with highest fitness\n",
    "    # Fighter 1 will win if score are equal\n",
    "    if fighter_1_fitness <= fighter_2_fitness:\n",
    "        winner = fighter_1\n",
    "    else:\n",
    "        winner = fighter_2\n",
    "    \n",
    "    # Return the chromosome of the winner\n",
    "    return population[winner, :]\n",
    "\n",
    "def select_individual_by_roulette(population, scores):\n",
    "    inverse_fitness = (lambda x: 1/x)(scores)\n",
    "\n",
    "    sum_of_fitnesses = sum(inverse_fitness)\n",
    "    random_stop = random.uniform(0,sum_of_fitnesses)\n",
    "\n",
    "    current_sum=0\n",
    "    for i in range(len(inverse_fitness)):\n",
    "      current_sum+=inverse_fitness[i]\n",
    "      if current_sum >= random_stop:\n",
    "        return population[i, :]\n",
    "    return population[i, :]"
   ]
  },
  {
   "cell_type": "markdown",
   "metadata": {
    "colab_type": "text",
    "id": "5gd-fAnYlmFl"
   },
   "source": [
    "Let us try this."
   ]
  },
  {
   "cell_type": "code",
   "execution_count": 142,
   "metadata": {
    "colab": {
     "base_uri": "https://localhost:8080/",
     "height": 153
    },
    "colab_type": "code",
    "id": "zDYlw01ulnPu",
    "outputId": "a1f3138a-31c3-4597-b9bf-da24bf457cf0"
   },
   "outputs": [
    {
     "name": "stdout",
     "output_type": "stream",
     "text": [
      "Population:\n",
      "[[ 0.72210858  0.36184885 -0.44848175 -0.79955557 -0.21386096]\n",
      " [ 0.07530006  0.40420183 -0.67267889 -0.12981802 -0.29872824]\n",
      " [ 0.97920382 -0.07093668  0.54373226  0.92009351 -0.98246263]]\n",
      "Fitnesses:\n",
      "[1.53853691 0.72763739 3.0713218 ]\n",
      "The chosen parent:\n",
      "[ 0.07530006  0.40420183 -0.67267889 -0.12981802 -0.29872824]\n"
     ]
    }
   ],
   "source": [
    "# Test the roulette\n",
    "population = create_starting_population(3, 5, 1)\n",
    "scores = calculate_fitness_dejong(population)\n",
    "print(\"Population:\")\n",
    "print(population)\n",
    "print(\"Fitnesses:\")\n",
    "print(scores)\n",
    "parent = select_individual_by_roulette(population,scores)\n",
    "print(\"The chosen parent:\")\n",
    "print(parent)\n"
   ]
  },
  {
   "cell_type": "markdown",
   "metadata": {
    "colab_type": "text",
    "id": "5uzSHKLvUbC4"
   },
   "source": [
    "Let us define the crossover method. Crossover is dependent on the representation, however the Python dynamic typing allows us to leave its implementation intact."
   ]
  },
  {
   "cell_type": "code",
   "execution_count": 0,
   "metadata": {
    "colab": {},
    "colab_type": "code",
    "id": "cy_-YcIBmJ5a"
   },
   "outputs": [],
   "source": [
    "def breed_by_spoint(parent_1, parent_2):\n",
    "    # Get length of chromosome\n",
    "    chromosome_length = len(parent_1)\n",
    "    \n",
    "    # Pick crossover point, avoding ends of chromsome\n",
    "    crossover_point = random.randint(1,chromosome_length-1)\n",
    "    \n",
    "    # Create children. np.hstack joins two arrays\n",
    "    child_1 = np.hstack((parent_1[0:crossover_point],\n",
    "                        parent_2[crossover_point:]))\n",
    "    \n",
    "    child_2 = np.hstack((parent_2[0:crossover_point],\n",
    "                        parent_1[crossover_point:]))\n",
    "    \n",
    "    # Return children\n",
    "    return child_1, child_2\n",
    "\n",
    "\n",
    "def breed_by_discrete(parent_1, parent_2):\n",
    "    # Get length of chromosome\n",
    "    chromosome_length = len(parent_1)\n",
    "    \n",
    "    child_1 = []\n",
    "    child_2 = []\n",
    "\n",
    "    for i in range(chromosome_length):\n",
    "      if random.uniform(0,1)<0.5:\n",
    "        child_1.append(parent_1[i])\n",
    "        child_2.append(parent_2[i])\n",
    "      else:\n",
    "        child_2.append(parent_1[i])\n",
    "        child_1.append(parent_2[i])\n",
    "\n",
    "    # Return children\n",
    "    return child_1, child_2\n",
    "\n",
    "\n",
    "def breed_by_randomaverage(parent_1, parent_2):\n",
    "    # Get length of chromosome\n",
    "    chromosome_length = len(parent_1)\n",
    "    \n",
    "    child_1 = []\n",
    "    child_2 = []\n",
    "\n",
    "    for i in range(chromosome_length):\n",
    "        child_1.append(random.uniform(parent_1[i],parent_2[i]))\n",
    "        child_2.append(random.uniform(parent_1[i],parent_2[i]))\n",
    "\n",
    "    # Return children\n",
    "    return child_1, child_2\n"
   ]
  },
  {
   "cell_type": "markdown",
   "metadata": {
    "colab_type": "text",
    "id": "u_tIYDZlmiH1"
   },
   "source": [
    "And test this of course."
   ]
  },
  {
   "cell_type": "code",
   "execution_count": 144,
   "metadata": {
    "colab": {
     "base_uri": "https://localhost:8080/",
     "height": 173
    },
    "colab_type": "code",
    "id": "sUJvUb9EmjWR",
    "outputId": "ef096243-787b-4c86-e9d4-52c75a8f4678"
   },
   "outputs": [
    {
     "name": "stdout",
     "output_type": "stream",
     "text": [
      "Parents\n",
      "[-1.63948007 -2.49808212  2.07910229 -1.15543056  2.79279452  2.61873385\n",
      "  2.78868786  0.37213345  4.81179278  4.16166202]\n",
      "[-4.51177184  1.0862534  -4.73765008  1.83083532  2.4122458   2.35246384\n",
      " -0.26887225  3.55387441 -3.03145196 -1.21901274]\n",
      "Children\n",
      "[-3.9431502904211917, -0.016023013325837887, -2.845438015758675, 1.0429252971372711, 2.615565271788724, 2.578193329627959, 0.2222562052975916, 1.1107127003805237, 3.4137876419085424, -1.1495834613770706]\n",
      "[-4.1548854051659525, -0.4315508990864778, 0.3584321265671635, 1.1595537178397675, 2.502346598111397, 2.589430247923986, 2.413303168160859, 3.1295656172233874, 3.1229623411271183, -0.9050682367902878]\n"
     ]
    }
   ],
   "source": [
    "# Set up and score population\n",
    "population = create_starting_population(100, 10,5.12)\n",
    "scores = calculate_fitness_dejong(population)\n",
    "\n",
    "# Pick two parents and dispplay\n",
    "parent_1 = select_individual_by_tournament(population, scores)\n",
    "parent_2 = select_individual_by_tournament(population, scores)\n",
    "\n",
    "# Get children\n",
    "child_1, child_2 = breed_by_randomaverage(parent_1, parent_2)\n",
    "\n",
    "# Show output\n",
    "print ('Parents')\n",
    "print (parent_1)\n",
    "print (parent_2)\n",
    "print ('Children')\n",
    "print (child_1)\n",
    "print (child_2)"
   ]
  },
  {
   "cell_type": "markdown",
   "metadata": {
    "colab_type": "text",
    "id": "Lg2UFi-tpu5K"
   },
   "source": [
    "Now the procedure for random mutation follows. We can't flip the gene - now it should be randomly modified. Say, we will add a small distortion to each gene, chosen from the range [-0.1,0.1] - of course the deviation should be a parameter of the algorithm."
   ]
  },
  {
   "cell_type": "code",
   "execution_count": 0,
   "metadata": {
    "colab": {},
    "colab_type": "code",
    "id": "y2EZmNcfpylQ"
   },
   "outputs": [],
   "source": [
    "def randomly_mutate_uniform(population, mutation_probability, mutation_range):\n",
    "    \n",
    "    # Apply random mutation      \n",
    "        for i in range(len(population)):\n",
    "          for j in range(len(population[1])):\n",
    "            if random.uniform(0,1) < mutation_probability:\n",
    "              population[i,j] += random.uniform(-mutation_range,mutation_range)\n",
    "\n",
    "        # Return mutation population\n",
    "        return population\n",
    "\n",
    "def randomly_mutate_gaussian(population, mutation_probability, mutation_range):\n",
    "    \n",
    "    # Apply random mutation      \n",
    "        for i in range(len(population)):\n",
    "          for j in range(len(population[1])):\n",
    "            if random.uniform(0,1) < mutation_probability:\n",
    "              population[i,j] = random.gauss(population[i,j],mutation_range)\n",
    "\n",
    "        # Return mutation population\n",
    "        return population\n",
    "    \n",
    "def randomly_mutate_boundary(population, mutation_probability, mutation_range):   \n",
    "    # Warning - the mutation probability must be small and mutation range must equal to the half of hypercube edge\n",
    "        for i in range(len(population)):\n",
    "          for j in range(len(population[1])):\n",
    "            if random.uniform(0,1) < mutation_probability:\n",
    "              if random.uniform(0,1)<0.5:\n",
    "                population[i,j] = -mutation_range\n",
    "              else:\n",
    "                population[i,j] = mutation_range\n",
    "\n",
    "        # Return mutation population\n",
    "        return population\n",
    "    "
   ]
  },
  {
   "cell_type": "markdown",
   "metadata": {
    "colab_type": "text",
    "id": "s35uGPOep0eu"
   },
   "source": [
    "And let us test this one too."
   ]
  },
  {
   "cell_type": "code",
   "execution_count": 146,
   "metadata": {
    "colab": {
     "base_uri": "https://localhost:8080/",
     "height": 255
    },
    "colab_type": "code",
    "id": "aNxiSJ3Up2jw",
    "outputId": "a9d5d61a-3fc1-4b98-c3bc-a44a5b7a6867"
   },
   "outputs": [
    {
     "name": "stdout",
     "output_type": "stream",
     "text": [
      "Population before mutation\n",
      "[[-3.22367576 -1.36188926  4.08621181  2.50667901  1.86003552 -1.43006802\n",
      "  -4.2196984   4.21129664  1.90971546  0.82218014 -2.70545217 -4.21290329\n",
      "  -4.67507053  3.63156242  0.9030107 ]\n",
      " [ 3.22725268  0.83107229  3.06855533  2.82428946  1.36155949 -0.66692448\n",
      "   1.62274175 -3.56336925  2.96339219 -4.78726052  2.84881018  0.62974136\n",
      "  -0.77088021  3.03744442  2.77384151]]\n",
      "Population after mutation\n",
      "[[-3.22367576  0.01        4.08621181 -0.01        1.86003552 -1.43006802\n",
      "  -4.2196984   4.21129664 -0.01        0.82218014 -2.70545217 -0.01\n",
      "  -4.67507053  3.63156242  0.9030107 ]\n",
      " [ 0.01        0.83107229  0.01        2.82428946  0.01       -0.66692448\n",
      "   1.62274175 -3.56336925  2.96339219 -0.01       -0.01        0.62974136\n",
      "  -0.77088021 -0.01        2.77384151]]\n"
     ]
    }
   ],
   "source": [
    "population = create_starting_population(100, 15,5.12)\n",
    "scores = calculate_fitness_dejong(population)\n",
    "\n",
    "# Pick two parents and display\n",
    "parent_1 = select_individual_by_tournament(population, scores)\n",
    "parent_2 = select_individual_by_tournament(population, scores)\n",
    "\n",
    "# Get children and make new population \n",
    "child_1, child_2 = breed_by_crossover(parent_1, parent_2)\n",
    "population = np.stack((child_1, child_2))\n",
    "\n",
    "# Mutate population\n",
    "print (\"Population before mutation\")\n",
    "print (population)\n",
    "population = randomly_mutate_boundary(population, 0.25, 0.01)\n",
    "print (\"Population after mutation\")\n",
    "print (population)"
   ]
  },
  {
   "cell_type": "markdown",
   "metadata": {
    "colab_type": "text",
    "id": "_OszMxJ9Uj1O"
   },
   "source": [
    "The code of the main algorithm follows."
   ]
  },
  {
   "cell_type": "code",
   "execution_count": 150,
   "metadata": {
    "colab": {
     "base_uri": "https://localhost:8080/",
     "height": 347
    },
    "colab_type": "code",
    "id": "bUjESRvFgPeb",
    "outputId": "35fecfb5-146d-4275-8040-9b243c267f3c"
   },
   "outputs": [
    {
     "name": "stdout",
     "output_type": "stream",
     "text": [
      "Starting best score, % target:  1625.207002770349\n",
      "End best score, % target:  1336.1471521661774\n",
      "Starting best score, % target:  1642.1646055822362\n",
      "End best score, % target:  1213.6175541796142\n"
     ]
    },
    {
     "data": {
      "image/png": "[encoded data removed]",
      "text/plain": [
       "<Figure size 432x288 with 1 Axes>"
      ]
     },
     "metadata": {
      "tags": []
     },
     "output_type": "display_data"
    }
   ],
   "source": [
    "# *************************************\n",
    "# ******** MAIN ALGORITHM CODE ********\n",
    "# *************************************\n",
    "\n",
    "# Constant for all\n",
    "chromosome_length = 100\n",
    "hypercube_size = 5.12\n",
    "population_size = 30 # this number must be even\n",
    "maximum_generation = 100\n",
    "current_fitness_function = \"rastrigin\"\n",
    "\n",
    "\n",
    "\n",
    "\n",
    "# To be set individually\n",
    "#current_selection_function = \"tournament\"\n",
    "#current_crossover_method = \"spoint\"\n",
    "#current_mutation_function = \"uniform\"\n",
    "#mutation_probability = 0.2\n",
    "#mutation_range = 0.01\n",
    "\n",
    "\n",
    "\n",
    "\n",
    "\n",
    "\n",
    "def run_main_algorithm(current_selection_function, current_crossover_method, current_mutation_function, mutation_probability, mutation_range):\n",
    "  best_score_progress = [] # Tracks progress\n",
    "  # Create starting population\n",
    "  population = create_starting_population(population_size, chromosome_length,hypercube_size)\n",
    "\n",
    "\n",
    "  selection_function = getattr(sys.modules[__name__], \"select_individual_by_%s\" % current_selection_function)\n",
    "  crossover_function = getattr(sys.modules[__name__], \"breed_by_%s\" % current_crossover_method)\n",
    "  mutation_function = getattr(sys.modules[__name__], \"randomly_mutate_%s\" % current_mutation_function)\n",
    "  fitness_function = getattr(sys.modules[__name__], \"calculate_fitness_%s\"%current_fitness_function)\n",
    "\n",
    "\n",
    "  # Display best score in starting population\n",
    "  scores = fitness_function(population)\n",
    "  best_score = np.min(scores)\n",
    "  print ('Starting best score, % target: ',best_score)\n",
    "\n",
    "  # Add starting best score to progress tracker\n",
    "  best_score_progress.append(best_score)\n",
    "\n",
    "  \n",
    "  # Now we'll go through the generations of genetic algorithm\n",
    "  for generation in range(maximum_generation):\n",
    "      # Create an empty list for new population\n",
    "      new_population = []\n",
    "    \n",
    "\n",
    "      # Create new popualtion generating two children at a time\n",
    "      for i in range(int(population_size/2)):\n",
    "          parent_1 = selection_function(population,scores)\n",
    "          parent_2 = selection_function(population,scores)\n",
    "          child_1, child_2 = crossover_function(parent_1, parent_2)\n",
    "          new_population.append(child_1)\n",
    "          new_population.append(child_2)\n",
    "      \n",
    "      # Replace the old population with the new one\n",
    "      population = np.array(new_population)\n",
    "\n",
    "      # Apply mutation\n",
    "      population = mutation_function(population, mutation_probability, mutation_range)\n",
    "      \n",
    "      # Score best solution, and add to tracker\n",
    "      #scores = calculate_fitness(population)\n",
    "      scores = fitness_function(population)\n",
    "      best_score = np.min(scores)\n",
    "      best_score_progress.append(best_score)\n",
    "\n",
    "  # GA has completed required generation\n",
    "  print ('End best score, % target: ', best_score)\n",
    "  return best_score_progress\n",
    "\n",
    "\n",
    "\n",
    "\n",
    "\n",
    "bsp = run_main_algorithm(\"tournament\",\"spoint\",\"uniform\",0.2,0.01)\n",
    "bsp2 = run_main_algorithm(\"tournament\",\"spoint\",\"uniform\",0.2,0.01)\n",
    "\n",
    "# Plot progress\n",
    "import matplotlib.pyplot as plt\n",
    "plt.plot(bsp, label='sample')\n",
    "plt.plot(bsp2, label='sample2')\n",
    "\n",
    "plt.xlabel('Generation')\n",
    "plt.ylabel('Best score (% target)')\n",
    "plt.legend()\n",
    "plt.show()"
   ]
  },
  {
   "cell_type": "markdown",
   "metadata": {
    "colab_type": "text",
    "id": "9XGB6R5EiL4T"
   },
   "source": [
    "Adapted from: [https://pythonhealthcare.org/](https://pythonhealthcare.org/) prepared by Michael Allen \n",
    "m.allen@exeter.ac.uk"
   ]
  }
 ],
 "metadata": {
  "colab": {
   "collapsed_sections": [],
   "name": "4-GeneticAlgorithmRealValue-Problems.ipynb",
   "provenance": []
  },
  "kernelspec": {
   "display_name": "Python 3",
   "language": "python",
   "name": "python3"
  },
  "language_info": {
   "codemirror_mode": {
    "name": "ipython",
    "version": 3
   },
   "file_extension": ".py",
   "mimetype": "text/x-python",
   "name": "python",
   "nbconvert_exporter": "python",
   "pygments_lexer": "ipython3",
   "version": "3.7.4"
  }
 },
 "nbformat": 4,
 "nbformat_minor": 1
}
