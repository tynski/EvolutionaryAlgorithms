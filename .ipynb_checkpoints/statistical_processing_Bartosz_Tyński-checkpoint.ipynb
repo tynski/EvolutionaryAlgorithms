{
 "cells": [
  {
   "cell_type": "markdown",
   "metadata": {
    "colab_type": "text",
    "id": "99EcLSjiOq73"
   },
   "source": [
    "How to find a reliable results of a stochastic algorithm? Remember the result differs for different runs of the algorithm....\n",
    "\n",
    "One has to refer to statistical methods. First, the experiment must be repeated several times. Statistically correct would be to repeat the experiment as many times as possible, perhaps a minimum number would be 10 or better 30 times - people do 100 or even more....\n",
    "\n",
    "Let us generate a random variable in order to get acquainted with proper processing of such results.\n"
   ]
  },
  {
   "cell_type": "code",
   "execution_count": 1,
   "metadata": {
    "colab": {
     "base_uri": "https://localhost:8080/",
     "height": 187
    },
    "colab_type": "code",
    "id": "H3PVzZ_meH4K",
    "outputId": "eabf905b-f7fd-42d5-f21d-e46324599805"
   },
   "outputs": [
    {
     "name": "stdout",
     "output_type": "stream",
     "text": [
      "56.557921912700145\n",
      "63.95200837187341\n",
      "56.16701984317085\n",
      "54.63486109812054\n",
      "60.22341575203959\n",
      "56.25364189170308\n",
      "43.95533661927516\n",
      "67.60827323264726\n",
      "76.42748951073152\n",
      "61.973289142547024\n"
     ]
    }
   ],
   "source": [
    "from numpy.random import normal\n",
    "from numpy.random import randint\n",
    "# define underlying distribution of results\n",
    "mean = 60\n",
    "stev = 10\n",
    "results = normal(mean, stev, 1000)\n",
    "\n",
    "for a in range(10):\n",
    "  print(results[a])\n"
   ]
  },
  {
   "cell_type": "markdown",
   "metadata": {
    "colab_type": "text",
    "id": "57NhrrFgfkBA"
   },
   "source": [
    "Let us check the basic stats: \n",
    "* minimum and maximum, \n",
    "* mean, \n",
    "* variance (simplest measure of diversity)\n",
    "* skewness (symmetry of the distribution function) \n",
    "* kurtosis (shape of the distribution function)\n"
   ]
  },
  {
   "cell_type": "code",
   "execution_count": 2,
   "metadata": {
    "colab": {
     "base_uri": "https://localhost:8080/",
     "height": 54
    },
    "colab_type": "code",
    "id": "hgzvygyjd7Ei",
    "outputId": "6b5336fe-0bcc-4004-9f64-ba87ab7aaccd"
   },
   "outputs": [
    {
     "name": "stdout",
     "output_type": "stream",
     "text": [
      "DescribeResult(nobs=1000, minmax=(25.555996372564323, 88.13960147647403), mean=60.23391206074062, variance=103.10745797391215, skewness=-0.050833176233242267, kurtosis=-0.1526640357079816)\n"
     ]
    }
   ],
   "source": [
    "from numpy import mean\n",
    "from numpy import std\n",
    "from scipy import stats\n",
    "from matplotlib import pyplot\n",
    "# descriptive stats\n",
    "print(stats.describe(results))\n"
   ]
  },
  {
   "cell_type": "markdown",
   "metadata": {
    "colab_type": "text",
    "id": "JUR8Zuk4NTeW"
   },
   "source": [
    "And let us plot the boxplot. The box extends from the lower (median of the lower half of the data) to upper quartile (median of the upper half of the data) values of the data, with a line at the median. The whiskers extend from the box to show the range of the data. Flier points are those past the end of the whiskers."
   ]
  },
  {
   "cell_type": "code",
   "execution_count": 3,
   "metadata": {
    "colab": {
     "base_uri": "https://localhost:8080/",
     "height": 265
    },
    "colab_type": "code",
    "id": "IZsSdvhzjvg0",
    "outputId": "20c34bfc-e4b0-4ec4-edce-c43ac0acf307"
   },
   "outputs": [
    {
     "data": {
      "image/png": "[encoded data removed]",
      "text/plain": [
       "<Figure size 432x288 with 1 Axes>"
      ]
     },
     "metadata": {
      "needs_background": "light"
     },
     "output_type": "display_data"
    }
   ],
   "source": [
    "# box and whisker plot\n",
    "pyplot.boxplot(results)\n",
    "pyplot.show()"
   ]
  },
  {
   "cell_type": "markdown",
   "metadata": {
    "colab_type": "text",
    "id": "VY1KT0MPk65B"
   },
   "source": [
    "Of course you can proceed in such way step by step examining all the outputs of our algorithm, but we'd rather make it automatic. Repeating our computing experiment, we produce arrays of observations of the best values produced at certain amounts of time, let us simulate this and observe. First let us plot a standard plot with error bars, then let us do a box and whiskers plot."
   ]
  },
  {
   "cell_type": "code",
   "execution_count": 4,
   "metadata": {
    "colab": {
     "base_uri": "https://localhost:8080/",
     "height": 265
    },
    "colab_type": "code",
    "id": "bBiRuQdDwmSW",
    "outputId": "289a060d-d80f-481a-b3de-f682681a03cc"
   },
   "outputs": [
    {
     "data": {
      "image/png": "[encoded data removed]",
      "text/plain": [
       "<Figure size 432x288 with 1 Axes>"
      ]
     },
     "metadata": {
      "needs_background": "light"
     },
     "output_type": "display_data"
    }
   ],
   "source": [
    "import statistics\n",
    "\n",
    "res1 = normal(10, 3, 100)\n",
    "res2 = normal(15, 2, 100)\n",
    "res3 = normal(18, 1, 100)\n",
    "\n",
    "avg1 = mean(res1)\n",
    "std1 = statistics.stdev(res1)\n",
    "avg2 = mean(res2)\n",
    "std2 = statistics.stdev(res2)\n",
    "avg3 = mean(res3)\n",
    "std3 = statistics.stdev(res3)\n",
    "\n",
    "pyplot.errorbar([1,2,3],[avg1,avg2,avg3],[std1,std2,std3],linestyle='None',marker='^')\n",
    "pyplot.show()\n",
    "\n",
    "\n",
    "\n",
    "\n",
    "\n",
    "\n"
   ]
  },
  {
   "cell_type": "markdown",
   "metadata": {
    "colab_type": "text",
    "id": "OLuPZVlAybQX"
   },
   "source": [
    "But let us do the same, using this time Boxplot, in order to see much more than simply standard deviation."
   ]
  },
  {
   "cell_type": "code",
   "execution_count": 5,
   "metadata": {
    "colab": {
     "base_uri": "https://localhost:8080/",
     "height": 282
    },
    "colab_type": "code",
    "id": "yu2WoB_ymUrr",
    "outputId": "dfc9d463-7666-416c-f7b1-6b9b6f85e28e"
   },
   "outputs": [
    {
     "data": {
      "text/plain": [
       "<function matplotlib.pyplot.show(*args, **kw)>"
      ]
     },
     "execution_count": 5,
     "metadata": {},
     "output_type": "execute_result"
    },
    {
     "data": {
      "image/png": "[encoded data removed]",
      "text/plain": [
       "<Figure size 432x288 with 1 Axes>"
      ]
     },
     "metadata": {
      "needs_background": "light"
     },
     "output_type": "display_data"
    }
   ],
   "source": [
    "#from numpy.random import normal\n",
    "# define underlying distribution of results\n",
    "res1 = normal(10, 3, 100)\n",
    "#print(res1)\n",
    "\n",
    "res2 = normal(15, 2, 100)\n",
    "res3 = normal(18, 1, 100)\n",
    "\n",
    "pyplot.boxplot([res1,res2,res3])\n",
    "pyplot.show"
   ]
  },
  {
   "cell_type": "markdown",
   "metadata": {
    "colab_type": "text",
    "id": "nBoA2eKjpNur"
   },
   "source": [
    "Let us further simulate the generation of results from many experiments. In this way you can visualize the repeated results of your computing experiment and compare with another algorithm (with different parameters). If the whiskers do not overlap - you can start to be convinced that one algorithm works \"better\" than another."
   ]
  },
  {
   "cell_type": "markdown",
   "metadata": {
    "colab_type": "text",
    "id": "saXm3yNQr_t8"
   },
   "source": []
  },
  {
   "cell_type": "code",
   "execution_count": 6,
   "metadata": {
    "colab": {
     "base_uri": "https://localhost:8080/",
     "height": 605
    },
    "colab_type": "code",
    "id": "vNHi3kz7obGe",
    "outputId": "edf9a820-301d-4dc9-d4f9-c61d92b9bf8e"
   },
   "outputs": [
    {
     "name": "stdout",
     "output_type": "stream",
     "text": [
      "[16.47616514 11.59301414 10.94599157 13.20144527 12.58730416 13.93099628\n",
      "  9.77219897 12.77377369 18.69255542 13.1382841 ]\n",
      "[13.4023591  12.827629   10.56865011 12.75337531  9.26837397  8.11385531\n",
      " 14.00914765  3.40559519 10.02156279 17.38347158]\n",
      "[12.13453187 15.52153265 19.95780224 21.5203819  12.27223179 22.19860376\n",
      " 19.17205236 17.79714729 17.32577044 17.53532185]\n",
      "[13.76407948 12.51896096 12.14767582 10.52834191 11.60409621 12.421047\n",
      " 11.21883821 11.18643825 13.42437963 13.25841607]\n",
      "[ 8.6397117  10.27916225  9.56595126 12.28222068 11.24013532 11.5261607\n",
      " 10.80390749 11.58005456 10.22508697 10.96693147]\n",
      "[11.25568721 16.12356077 10.56653208  8.05215154 16.42615822 11.00822384\n",
      " 15.87087246 13.45341951 15.15686553  9.48556611]\n",
      "[11.41642208 10.74241823  9.72165398  9.9954949   9.26931067 10.69549112\n",
      " 12.03816943 10.57555056 10.2746894  10.5686629 ]\n",
      "[18.33410082 18.0836438   8.94241443 17.54288468 25.00351116 11.55178877\n",
      " 13.30050455 14.08092075 21.40491023 13.28962469]\n",
      "[12.06268643 10.16827216 12.03891832 11.95514541 14.8280024  11.55117765\n",
      " 14.1115684  10.70656054  9.21197624 11.14006134]\n",
      "[20.2782561  20.60753999 24.36338983 18.80432342 20.21241056 19.41202162\n",
      " 19.08094747 21.53170783 19.56307228 19.29907208]\n"
     ]
    },
    {
     "data": {
      "image/png": "[encoded data removed]",
      "text/plain": [
       "<Figure size 432x288 with 1 Axes>"
      ]
     },
     "metadata": {
      "needs_background": "light"
     },
     "output_type": "display_data"
    }
   ],
   "source": [
    "function_output=[]\n",
    "for i in range(10):\n",
    "  current_mean = randint(10,20)\n",
    "  current_stdev = randint(1,5)\n",
    "  resi = normal(current_mean, current_stdev, 10)\n",
    "  print(resi)\n",
    "  function_output.append(resi)\n",
    "pyplot.boxplot(function_output)\n",
    "pyplot.show()"
   ]
  },
  {
   "cell_type": "markdown",
   "metadata": {
    "colab_type": "text",
    "id": "3xmzdMoxsBpe"
   },
   "source": [
    "Let us come back for a moment to observation of single random variables (e.g. the final values of your experiment)... We got two variables - which one is better (they are results of optimization, say - minimization just like up to now). Of course you can compare the whiskers... but there's a better way to follow."
   ]
  },
  {
   "cell_type": "code",
   "execution_count": 7,
   "metadata": {
    "colab": {
     "base_uri": "https://localhost:8080/",
     "height": 282
    },
    "colab_type": "code",
    "id": "JPhAjewGshKW",
    "outputId": "0f6ca024-db8d-4634-99cb-203cfe2607c5"
   },
   "outputs": [
    {
     "data": {
      "text/plain": [
       "<function matplotlib.pyplot.show(*args, **kw)>"
      ]
     },
     "execution_count": 7,
     "metadata": {},
     "output_type": "execute_result"
    },
    {
     "data": {
      "image/png": "[encoded data removed]",
      "text/plain": [
       "<Figure size 432x288 with 1 Axes>"
      ]
     },
     "metadata": {
      "needs_background": "light"
     },
     "output_type": "display_data"
    }
   ],
   "source": [
    "first = normal(5,2,100)\n",
    "second = normal(15,2,100)\n",
    "\n",
    "pyplot.boxplot((first,second))\n",
    "pyplot.show"
   ]
  },
  {
   "cell_type": "markdown",
   "metadata": {
    "colab_type": "text",
    "id": "HYTHCRAOuV-M"
   },
   "source": [
    "We can use statistical hypothesis testing. A statistical hypothesis, sometimes called confirmatory data analysis, is a hypothesis that is testable on the basis of observing a process that is modeled via a set of random variables.\n",
    "\n",
    "We use predefined statistical tests (like e.g. Kruskall Wallis) to exclude the null hypothesis (that the two random distributions of the tested variables are the same). First we assume a certain significance threshold, close to zero (usually 0.05) and we run the test comparing the random variables."
   ]
  },
  {
   "cell_type": "code",
   "execution_count": 8,
   "metadata": {
    "colab": {
     "base_uri": "https://localhost:8080/",
     "height": 34
    },
    "colab_type": "code",
    "id": "sP-QV_AfvDIS",
    "outputId": "062c7d34-5b8a-47b7-80b9-7e5670838e70"
   },
   "outputs": [
    {
     "data": {
      "text/plain": [
       "KruskalResult(statistic=149.25373134328356, pvalue=2.523939423990366e-34)"
      ]
     },
     "execution_count": 8,
     "metadata": {},
     "output_type": "execute_result"
    }
   ],
   "source": [
    "stats.kruskal(first,second)"
   ]
  },
  {
   "cell_type": "markdown",
   "metadata": {
    "colab_type": "text",
    "id": "zk6-4L4Mvpdb"
   },
   "source": [
    "Such results are really convincing from the statistical point of view. Remember, first the significance threshold should be assumed, then the hypothesis testing should be realized. \n",
    "\n",
    "Now what happens if we want to compare more than two random variables? E.g. we have four results of the same experiment and we want to know if they are truly different.\n",
    "\n",
    "Below you will find an implementation of Dunn's test - extension of Kruskall-Wallis for multiple random variables (copy of code from scipy.posthoc). You dont have to modify the code, move to the next code cell and let us check the results of the test in a similar way as in the case of Kruskal Wallis....."
   ]
  },
  {
   "cell_type": "code",
   "execution_count": 9,
   "metadata": {
    "colab": {},
    "colab_type": "code",
    "id": "TA_iU6-RuRA1"
   },
   "outputs": [],
   "source": [
    "import numpy as np\n",
    "import scipy.stats as ss\n",
    "import itertools as it\n",
    "from statsmodels.sandbox.stats.multicomp import multipletests\n",
    "from statsmodels.stats.multicomp import pairwise_tukeyhsd\n",
    "from statsmodels.stats.libqsturng import psturng\n",
    "from pandas import DataFrame, Categorical\n",
    "\n",
    "\n",
    "def __convert_to_df(a, val_col=None, group_col=None, val_id=None, group_id=None):\n",
    "\n",
    "    '''Hidden helper method to create a DataFrame with input data for further\n",
    "    processing.\n",
    "    Parameters\n",
    "    ----------\n",
    "    a : array_like or pandas DataFrame object\n",
    "        An array, any object exposing the array interface or a pandas DataFrame.\n",
    "        Array must be two-dimensional. Second dimension may vary,\n",
    "        i.e. groups may have different lengths.\n",
    "    val_col : str, optional\n",
    "        Name of a DataFrame column that contains dependent variable values (test\n",
    "        or response variable). Values should have a non-nominal scale. Must be\n",
    "        specified if `a` is a pandas DataFrame object.\n",
    "    group_col : str, optional\n",
    "        Name of a DataFrame column that contains independent variable values\n",
    "        (grouping or predictor variable). Values should have a nominal scale\n",
    "        (categorical). Must be specified if `a` is a pandas DataFrame object.\n",
    "    val_id : int, optional\n",
    "        Index of a column that contains dependent variable values (test or\n",
    "        response variable). Should be specified if a NumPy ndarray is used as an\n",
    "        input. It will be inferred from data, if not specified.\n",
    "    group_id : int, optional\n",
    "        Index of a column that contains independent variable values (grouping or\n",
    "        predictor variable). Should be specified if a NumPy ndarray is used as\n",
    "        an input. It will be inferred from data, if not specified.\n",
    "    Returns\n",
    "    -------\n",
    "    x : pandas DataFrame\n",
    "        DataFrame with input data, `val_col` column contains numerical values and\n",
    "        `group_col` column contains categorical values.\n",
    "    val_col : str\n",
    "        Name of a DataFrame column that contains dependent variable values (test\n",
    "        or response variable).\n",
    "    group_col : str\n",
    "        Name of a DataFrame column that contains independent variable values\n",
    "        (grouping or predictor variable).\n",
    "    Notes\n",
    "    -----\n",
    "    Inferrence algorithm for determining `val_id` and `group_id` args is rather\n",
    "    simple, so it is better to specify them explicitly to prevent errors.\n",
    "    '''\n",
    "\n",
    "    if not group_col:\n",
    "        group_col = 'groups'\n",
    "    if not val_col:\n",
    "        val_col = 'vals'\n",
    "\n",
    "    if isinstance(a, DataFrame):\n",
    "        x = a.copy()\n",
    "        if not {group_col, val_col}.issubset(a.columns):\n",
    "            raise ValueError('Specify correct column names using `group_col` and `val_col` args')\n",
    "        return x, val_col, group_col\n",
    "\n",
    "    elif isinstance(a, list) or (isinstance(a, np.ndarray) and not a.shape.count(2)):\n",
    "        grps_len = map(len, a)\n",
    "        grps = list(it.chain(*[[i+1] * l for i, l in enumerate(grps_len)]))\n",
    "        vals = list(it.chain(*a))\n",
    "\n",
    "        return DataFrame({val_col: vals, group_col: grps}), val_col, group_col\n",
    "\n",
    "    elif isinstance(a, np.ndarray):\n",
    "\n",
    "        # cols ids not defined\n",
    "        # trying to infer\n",
    "        if not(all([val_id, group_id])):\n",
    "\n",
    "            if np.argmax(a.shape):\n",
    "                a = a.T\n",
    "\n",
    "            ax = [np.unique(a[:, 0]).size, np.unique(a[:, 1]).size]\n",
    "\n",
    "            if np.diff(ax).item():\n",
    "                __val_col = np.argmax(ax)\n",
    "                __group_col = np.argmin(ax)\n",
    "            else:\n",
    "                raise ValueError('Cannot infer input format.\\nPlease specify `val_id` and `group_id` args')\n",
    "\n",
    "            cols = {__val_col: val_col,\n",
    "                    __group_col: group_col}\n",
    "        else:\n",
    "            cols = {val_id: val_col,\n",
    "                    group_id: group_col}\n",
    "\n",
    "        cols_vals = dict(sorted(cols.items())).values()\n",
    "        return DataFrame(a, columns=cols_vals), val_col, group_col\n",
    "\n",
    "\n",
    "\n",
    "\n",
    "def posthoc_dunn(a, val_col=None, group_col=None, p_adjust=None, sort=True):\n",
    "\n",
    "    '''Post hoc pairwise test for multiple comparisons of mean rank sums\n",
    "    (Dunn's test). May be used after Kruskal-Wallis one-way analysis of\n",
    "    variance by ranks to do pairwise comparisons [1]_, [2]_.\n",
    "    Parameters\n",
    "    ----------\n",
    "    a : array_like or pandas DataFrame object\n",
    "        An array, any object exposing the array interface or a pandas DataFrame.\n",
    "        Array must be two-dimensional. Second dimension may vary,\n",
    "        i.e. groups may have different lengths.\n",
    "    val_col : str, optional\n",
    "        Name of a DataFrame column that contains dependent variable values (test\n",
    "        or response variable). Values should have a non-nominal scale. Must be\n",
    "        specified if `a` is a pandas DataFrame object.\n",
    "    group_col : str, optional\n",
    "        Name of a DataFrame column that contains independent variable values\n",
    "        (grouping or predictor variable). Values should have a nominal scale\n",
    "        (categorical). Must be specified if `a` is a pandas DataFrame object.\n",
    "    p_adjust : str, optional\n",
    "        Method for adjusting p values. See `statsmodels.sandbox.stats.multicomp`\n",
    "        for details. Available methods are:\n",
    "        'bonferroni' : one-step correction\n",
    "        'sidak' : one-step correction\n",
    "        'holm-sidak' : step-down method using Sidak adjustments\n",
    "        'holm' : step-down method using Bonferroni adjustments\n",
    "        'simes-hochberg' : step-up method  (independent)\n",
    "        'hommel' : closed method based on Simes tests (non-negative)\n",
    "        'fdr_bh' : Benjamini/Hochberg  (non-negative)\n",
    "        'fdr_by' : Benjamini/Yekutieli (negative)\n",
    "        'fdr_tsbh' : two stage fdr correction (non-negative)\n",
    "        'fdr_tsbky' : two stage fdr correction (non-negative)\n",
    "    sort : bool, optional\n",
    "        Specifies whether to sort DataFrame by group_col or not. Recommended\n",
    "        unless you sort your data manually.\n",
    "    Returns\n",
    "    -------\n",
    "    result : pandas DataFrame\n",
    "        P values.\n",
    "    Notes\n",
    "    -----\n",
    "    A tie correction will be employed according to Glantz (2012).\n",
    "    References\n",
    "    ----------\n",
    "    .. [1] O.J. Dunn (1964). Multiple comparisons using rank sums.\n",
    "        Technometrics, 6, 241-252.\n",
    "    .. [2] S.A. Glantz (2012), Primer of Biostatistics. New York: McGraw Hill.\n",
    "    Examples\n",
    "    --------\n",
    "    >>> x = [[1,2,3,5,1], [12,31,54, np.nan], [10,12,6,74,11]]\n",
    "    >>> sp.posthoc_dunn(x, p_adjust = 'holm')\n",
    "    '''\n",
    "\n",
    "    def compare_dunn(i, j):\n",
    "        diff = np.abs(x_ranks_avg.loc[i] - x_ranks_avg.loc[j])\n",
    "        A = n * (n + 1.) / 12.\n",
    "        B = (1. / x_lens.loc[i] + 1. / x_lens.loc[j])\n",
    "        z_value = diff / np.sqrt((A - x_ties) * B)\n",
    "        p_value = 2. * ss.norm.sf(np.abs(z_value))\n",
    "        return p_value\n",
    "\n",
    "    x, _val_col, _group_col = __convert_to_df(a, val_col, group_col)\n",
    "\n",
    "    if not sort:\n",
    "        x[_group_col] = Categorical(x[_group_col], categories=x[_group_col].unique(), ordered=True)\n",
    "\n",
    "    x.sort_values(by=[_group_col, _val_col], ascending=True, inplace=True)\n",
    "    n = len(x.index)\n",
    "    x_groups_unique = np.unique(x[_group_col])\n",
    "    x_len = x_groups_unique.size\n",
    "    x_lens = x.groupby(_group_col)[_val_col].count()\n",
    "\n",
    "    x['ranks'] = x[_val_col].rank()\n",
    "    x_ranks_avg = x.groupby(_group_col)['ranks'].mean()\n",
    "\n",
    "    # ties\n",
    "    vals = x.groupby('ranks').count()[_val_col].values\n",
    "    tie_sum = np.sum(vals[vals != 1] ** 3 - vals[vals != 1])\n",
    "    tie_sum = 0 if not tie_sum else tie_sum\n",
    "    x_ties = tie_sum / (12. * (n - 1))\n",
    "\n",
    "    vs = np.zeros((x_len, x_len))\n",
    "    combs = it.combinations(range(x_len), 2)\n",
    "\n",
    "    tri_upper = np.triu_indices(vs.shape[0], 1)\n",
    "    tri_lower = np.tril_indices(vs.shape[0], -1)\n",
    "    vs[:,:] = 0\n",
    "\n",
    "    for i,j in combs:\n",
    "        vs[i, j] = compare_dunn(x_groups_unique[i], x_groups_unique[j])\n",
    "\n",
    "    if p_adjust:\n",
    "        vs[tri_upper] = multipletests(vs[tri_upper], method = p_adjust)[1]\n",
    "\n",
    "    vs[tri_lower] = vs.T[tri_lower]\n",
    "    np.fill_diagonal(vs, -1)\n",
    "    return DataFrame(vs, index=x_groups_unique, columns=x_groups_unique)\n",
    "\n",
    "\n"
   ]
  },
  {
   "cell_type": "markdown",
   "metadata": {
    "colab_type": "text",
    "id": "9IV4ZZtd1f92"
   },
   "source": [
    "Here goes the visualization of the results, and the Dunn's test (let us asume again that the significance threshold is 0.05:"
   ]
  },
  {
   "cell_type": "code",
   "execution_count": 10,
   "metadata": {
    "colab": {
     "base_uri": "https://localhost:8080/",
     "height": 390
    },
    "colab_type": "code",
    "id": "cuubiMxX1ia-",
    "outputId": "da9096c2-9966-4b02-81d8-e0a43202103d"
   },
   "outputs": [
    {
     "data": {
      "text/html": [
       "<div>\n",
       "<style scoped>\n",
       "    .dataframe tbody tr th:only-of-type {\n",
       "        vertical-align: middle;\n",
       "    }\n",
       "\n",
       "    .dataframe tbody tr th {\n",
       "        vertical-align: top;\n",
       "    }\n",
       "\n",
       "    .dataframe thead th {\n",
       "        text-align: right;\n",
       "    }\n",
       "</style>\n",
       "<table border=\"1\" class=\"dataframe\">\n",
       "  <thead>\n",
       "    <tr style=\"text-align: right;\">\n",
       "      <th></th>\n",
       "      <th>1</th>\n",
       "      <th>2</th>\n",
       "      <th>3</th>\n",
       "    </tr>\n",
       "  </thead>\n",
       "  <tbody>\n",
       "    <tr>\n",
       "      <td>1</td>\n",
       "      <td>-1.000000e+00</td>\n",
       "      <td>1.503201e-34</td>\n",
       "      <td>8.093372e-01</td>\n",
       "    </tr>\n",
       "    <tr>\n",
       "      <td>2</td>\n",
       "      <td>1.503201e-34</td>\n",
       "      <td>-1.000000e+00</td>\n",
       "      <td>1.952657e-33</td>\n",
       "    </tr>\n",
       "    <tr>\n",
       "      <td>3</td>\n",
       "      <td>8.093372e-01</td>\n",
       "      <td>1.952657e-33</td>\n",
       "      <td>-1.000000e+00</td>\n",
       "    </tr>\n",
       "  </tbody>\n",
       "</table>\n",
       "</div>"
      ],
      "text/plain": [
       "              1             2             3\n",
       "1 -1.000000e+00  1.503201e-34  8.093372e-01\n",
       "2  1.503201e-34 -1.000000e+00  1.952657e-33\n",
       "3  8.093372e-01  1.952657e-33 -1.000000e+00"
      ]
     },
     "execution_count": 10,
     "metadata": {},
     "output_type": "execute_result"
    },
    {
     "data": {
      "image/png": "[encoded data removed]",
      "text/plain": [
       "<Figure size 432x288 with 1 Axes>"
      ]
     },
     "metadata": {
      "needs_background": "light"
     },
     "output_type": "display_data"
    }
   ],
   "source": [
    "first = normal(5,0.2,100)\n",
    "second = normal(15,2,100)\n",
    "third = normal(5,0.2,100)\n",
    "\n",
    "pyplot.boxplot((first,second,third))\n",
    "pyplot.show\n",
    "\n",
    "\n",
    "posthoc_dunn([first,second,third], p_adjust = 'holm')"
   ]
  },
  {
   "cell_type": "markdown",
   "metadata": {
    "colab_type": "text",
    "id": "SMLYf5zJ3u6s"
   },
   "source": [
    "Finally the agenda:\n",
    "\n",
    "\n",
    "*   Run one experiment, an optimization of Rastrigin function, 10 dimensions, 100 steps.\n",
    "*   Repeat the experiment 10 times and draw a standard-deviation (error bar) plot.\n",
    "*   Do the same with box and whiskers plot.\n",
    "*   Change a selected parameter (say, the mutation probability or mutation range). Repeat the experiment 10 times.\n",
    "*   Visualize both experiments on the same plot. Are they different? Which is better?\n",
    "*   Pick the final values produced by the experiments and use the Kruskall Wallis test to check if they are different.\n",
    "*   Add the third experiment and use the Dunn's test to check if they are different.\n",
    "\n"
   ]
  },
  {
   "cell_type": "markdown",
   "metadata": {},
   "source": [
    "# Population"
   ]
  },
  {
   "cell_type": "code",
   "execution_count": 12,
   "metadata": {},
   "outputs": [],
   "source": [
    "import random\n",
    "import numpy as np\n",
    "import sys\n",
    "import math\n",
    "\n",
    "def create_starting_population(individuals, chromosome_length, hypercube_size):\n",
    "    # Set up an initial array of all zeros\n",
    "    population = np.zeros((individuals, chromosome_length))\n",
    "    # Loop through each row (individual)\n",
    "    for i in range(individuals):\n",
    "        for j in range(chromosome_length):\n",
    "          population[i,j]=random.uniform(-hypercube_size,hypercube_size)    \n",
    "    return population"
   ]
  },
  {
   "cell_type": "markdown",
   "metadata": {},
   "source": [
    "# Rastrigin fitenss function"
   ]
  },
  {
   "cell_type": "code",
   "execution_count": 14,
   "metadata": {},
   "outputs": [],
   "source": [
    "def calculate_fitness_rastrigin(population):\n",
    "    fitness_scores = np.zeros(len(population))\n",
    "    for i in range(len(population)):\n",
    "      current_fitness = 10 * len(population[i])\n",
    "      for j in range(len(population[i])):\n",
    "        current_fitness += population[i,j] * population[i,j] - 10 * math.cos(2*math.pi* population[i,j])        \n",
    "      fitness_scores[i]=current_fitness\n",
    "    return fitness_scores"
   ]
  },
  {
   "cell_type": "markdown",
   "metadata": {},
   "source": [
    "# Selection"
   ]
  },
  {
   "cell_type": "code",
   "execution_count": 15,
   "metadata": {},
   "outputs": [],
   "source": [
    "def select_individual_by_tournament(population, scores):\n",
    "    # Get population size\n",
    "    population_size = len(scores)\n",
    "    \n",
    "    # Pick individuals for tournament\n",
    "    fighter_1 = random.randint(0, population_size-1)\n",
    "    fighter_2 = random.randint(0, population_size-1)\n",
    "    \n",
    "    # Get fitness score for each\n",
    "    fighter_1_fitness = scores[fighter_1]\n",
    "    fighter_2_fitness = scores[fighter_2]\n",
    "    \n",
    "    # Identify undividual with highest fitness\n",
    "    # Fighter 1 will win if score are equal\n",
    "    if fighter_1_fitness <= fighter_2_fitness:\n",
    "        winner = fighter_1\n",
    "    else:\n",
    "        winner = fighter_2\n",
    "    \n",
    "    # Return the chromosome of the winner\n",
    "    return population[winner, :]"
   ]
  },
  {
   "cell_type": "markdown",
   "metadata": {},
   "source": [
    "# Crossover method"
   ]
  },
  {
   "cell_type": "code",
   "execution_count": 16,
   "metadata": {},
   "outputs": [],
   "source": [
    "def breed_by_discrete(parent_1, parent_2):\n",
    "    # Get length of chromosome\n",
    "    chromosome_length = len(parent_1)\n",
    "    \n",
    "    child_1 = []\n",
    "    child_2 = []\n",
    "\n",
    "    for i in range(chromosome_length):\n",
    "      if random.uniform(0,1)<0.5:\n",
    "        child_1.append(parent_1[i])\n",
    "        child_2.append(parent_2[i])\n",
    "      else:\n",
    "        child_2.append(parent_1[i])\n",
    "        child_1.append(parent_2[i])\n",
    "\n",
    "    # Return children\n",
    "    return child_1, child_2"
   ]
  },
  {
   "cell_type": "markdown",
   "metadata": {},
   "source": [
    "# Mutation"
   ]
  },
  {
   "cell_type": "code",
   "execution_count": 18,
   "metadata": {},
   "outputs": [],
   "source": [
    "def randomly_mutate_gaussian(population, mutation_probability, mutation_range):\n",
    "    \n",
    "    # Apply random mutation      \n",
    "        for i in range(len(population)):\n",
    "          for j in range(len(population[1])):\n",
    "            if random.uniform(0,1) < mutation_probability:\n",
    "              population[i,j] = random.gauss(population[i,j],mutation_range)\n",
    "\n",
    "        # Return mutation population\n",
    "        return population"
   ]
  },
  {
   "cell_type": "markdown",
   "metadata": {},
   "source": [
    "# Whole evolution algo"
   ]
  },
  {
   "cell_type": "code",
   "execution_count": 38,
   "metadata": {},
   "outputs": [],
   "source": [
    "def run_evolution_algo(chromosome_length, hypercube_size, population_size, maximum_generation):\n",
    "    best_score_progress = [] # Tracks progress\n",
    "    final_scores = []\n",
    "\n",
    "    for reptetition in range(10):\n",
    "        # Set up and score population\n",
    "        population = create_starting_population(population_size, chromosome_length, hypercube_size)\n",
    "\n",
    "        # Display best score in starting population\n",
    "        scores = calculate_fitness_rastrigin(population)\n",
    "        best_score = np.min(scores)\n",
    "\n",
    "        # Add starting best score to progress tracker\n",
    "        best_score_progress.append(best_score)\n",
    "\n",
    "\n",
    "        # Now we'll go through the generations of genetic algorithm\n",
    "        for generation in range(maximum_generation):\n",
    "          # Create an empty list for new population\n",
    "          new_population = []\n",
    "\n",
    "\n",
    "          # Create new popualtion generating two children at a time\n",
    "          for i in range(int(population_size/2)):\n",
    "              parent_1 = select_individual_by_tournament(population, scores)\n",
    "              parent_2 = select_individual_by_tournament(population, scores)\n",
    "              child_1, child_2 = breed_by_discrete(parent_1, parent_2)\n",
    "              new_population.append(child_1)\n",
    "              new_population.append(child_2)\n",
    "\n",
    "          # Replace the old population with the new one\n",
    "          population = np.array(new_population)\n",
    "\n",
    "          # Apply mutation\n",
    "          population = randomly_mutate_gaussian(population, 0.25, 0.01)\n",
    "\n",
    "          # Score best solution, and add to tracker\n",
    "          #scores = calculate_fitness(population)\n",
    "          scores = calculate_fitness_rastrigin(population)\n",
    "          best_score = np.min(scores)\n",
    "          best_score_progress.append(best_score)\n",
    "\n",
    "        final_scores.append(scores)\n",
    "    return final_scores"
   ]
  },
  {
   "cell_type": "markdown",
   "metadata": {},
   "source": [
    "# Barplot"
   ]
  },
  {
   "cell_type": "code",
   "execution_count": 42,
   "metadata": {},
   "outputs": [],
   "source": [
    "def show_barplot(final_scores):\n",
    "    avg = []\n",
    "    std = []\n",
    "\n",
    "    for i in range(len(final_scores)):\n",
    "        avg.append(mean(final_scores[i]))\n",
    "        std.append(statistics.stdev(final_scores[i]))\n",
    "\n",
    "    pyplot.errorbar(range(len(final_scores)),avg,std,linestyle='None',marker='^')\n",
    "    pyplot.show()"
   ]
  },
  {
   "cell_type": "markdown",
   "metadata": {},
   "source": [
    "# Boxplot"
   ]
  },
  {
   "cell_type": "code",
   "execution_count": 43,
   "metadata": {},
   "outputs": [],
   "source": [
    "def show_boxplot(final_scores):\n",
    "    pyplot.boxplot(final_scores)\n",
    "    pyplot.show"
   ]
  },
  {
   "cell_type": "markdown",
   "metadata": {},
   "source": [
    "# First attempt"
   ]
  },
  {
   "cell_type": "code",
   "execution_count": 44,
   "metadata": {},
   "outputs": [],
   "source": [
    "chromosome_length = 10\n",
    "hypercube_size = 5.12\n",
    "population_size = 100 # this number must be even\n",
    "maximum_generation = 10\n",
    "mutation_probability = 0.25\n",
    "mutation_range = 0.01\n",
    "\n",
    "final_scores = run_evolution_algo(chromosome_length, hypercube_size, population_size, maximum_generation, mutation_probability, mutation_range)"
   ]
  },
  {
   "cell_type": "code",
   "execution_count": 45,
   "metadata": {},
   "outputs": [
    {
     "data": {
      "image/png": "[encoded data removed]",
      "text/plain": [
       "<Figure size 432x288 with 1 Axes>"
      ]
     },
     "metadata": {
      "needs_background": "light"
     },
     "output_type": "display_data"
    }
   ],
   "source": [
    "show_barplot(final_scores)"
   ]
  },
  {
   "cell_type": "code",
   "execution_count": 46,
   "metadata": {},
   "outputs": [
    {
     "data": {
      "image/png": "[encoded data removed]",
      "text/plain": [
       "<Figure size 432x288 with 1 Axes>"
      ]
     },
     "metadata": {
      "needs_background": "light"
     },
     "output_type": "display_data"
    }
   ],
   "source": [
    "show_boxplot(final_scores)"
   ]
  },
  {
   "cell_type": "markdown",
   "metadata": {},
   "source": [
    "# Second attempt"
   ]
  },
  {
   "cell_type": "code",
   "execution_count": null,
   "metadata": {},
   "outputs": [],
   "source": [
    "chromosome_length = 10\n",
    "hypercube_size = 5.12\n",
    "population_size = 100 # this number must be even\n",
    "maximum_generation = 10\n",
    "\n",
    "final_scores = run_evolution_algo(chromosome_length, hypercube_size, population_size, maximum_generation)"
   ]
  }
 ],
 "metadata": {
  "colab": {
   "name": "statistical-processing.ipynb",
   "provenance": []
  },
  "kernelspec": {
   "display_name": "Python 3",
   "language": "python",
   "name": "python3"
  },
  "language_info": {
   "codemirror_mode": {
    "name": "ipython",
    "version": 3
   },
   "file_extension": ".py",
   "mimetype": "text/x-python",
   "name": "python",
   "nbconvert_exporter": "python",
   "pygments_lexer": "ipython3",
   "version": "3.7.4"
  }
 },
 "nbformat": 4,
 "nbformat_minor": 1
}
