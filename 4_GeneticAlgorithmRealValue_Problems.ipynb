{
 "cells": [
  {
   "cell_type": "markdown",
   "metadata": {
    "colab_type": "text",
    "id": "Y10yNlrUhQZj"
   },
   "source": [
    "Based on a code from 3rd laboratories let us realize a competition. \n",
    "We will be solving the following problems:\n",
    "1. De Jong\n",
    "2. Rastrigin\n",
    "3. Schwefel\n",
    "in several dimensions.\n",
    "\n",
    "using the following components and parameters:\n",
    "1. Selection: tournament, roulette.\n",
    "2. Crossover: single point, discrete, randomaverage.\n",
    "3. Mutation: uniform, gaussian, boundary.\n",
    "4. Mutation probability, mutation range.\n",
    "\n",
    "\n",
    "after setting the general parameters by the teacher (problem, dimension, number of generation) please do a number of experiments looking for optimal parameters. Then the parameters will be entered into the online spreadsheet and run together by the teacher while you will be trying  to solve another problem. \n",
    "\n",
    "\n",
    "\n",
    "\n"
   ]
  },
  {
   "cell_type": "code",
   "execution_count": 1,
   "metadata": {
    "colab": {},
    "colab_type": "code",
    "id": "wenz4Px_jXOn"
   },
   "outputs": [],
   "source": [
    "import random\n",
    "import numpy as np\n",
    "import sys\n",
    "import math\n",
    "\n",
    "def create_starting_population(individuals, chromosome_length, hypercube_size):\n",
    "    # Set up an initial array of all zeros\n",
    "    population = np.zeros((individuals, chromosome_length))\n",
    "    # Loop through each row (individual)\n",
    "    for i in range(individuals):\n",
    "        for j in range(chromosome_length):\n",
    "          population[i,j]=random.uniform(-hypercube_size,hypercube_size)    \n",
    "    return population\n",
    "\n"
   ]
  },
  {
   "cell_type": "markdown",
   "metadata": {
    "colab_type": "text",
    "id": "1yoKoi9tjaFG"
   },
   "source": [
    "Let's try to use the code above to create sample populations. Of course this should be a two-dimensional array of genotypes. Let us change the number of individuals and the length of chromosomes."
   ]
  },
  {
   "cell_type": "code",
   "execution_count": 2,
   "metadata": {
    "colab": {
     "base_uri": "https://localhost:8080/",
     "height": 187
    },
    "colab_type": "code",
    "id": "BgZ-LcqUjdoU",
    "outputId": "744fdbb1-ce17-426f-f4cd-705b26f27a9c"
   },
   "outputs": [
    {
     "name": "stdout",
     "output_type": "stream",
     "text": [
      "[[-3.11610954  3.18063745  4.84821582  3.02779174 -0.88245895]\n",
      " [-3.34295745 -0.46532462 -3.39003343  1.61001734 -3.31222941]\n",
      " [ 3.42100244  3.83643452 -1.20145585 -3.72742417 -1.2509555 ]\n",
      " [-2.11421397  1.3459608  -4.20010241  0.90914396  2.74762982]\n",
      " [-0.39574013 -2.3816454   4.33315309 -4.26937025  1.68370111]\n",
      " [ 2.76166677 -3.3273418   4.18226395 -2.74911018  3.8185091 ]\n",
      " [-0.59691288 -5.08553547  1.32513584 -2.68895711  1.17783299]\n",
      " [ 3.92933664 -1.21124696 -3.52664401 -4.43454777 -1.62955766]\n",
      " [-5.01164483  2.37043336 -3.68069371  4.35659559 -4.44939541]\n",
      " [ 1.24800977  1.67604438 -1.93141907 -4.60609027  1.24557577]]\n"
     ]
    }
   ],
   "source": [
    "print (create_starting_population(10, 5,5.12))"
   ]
  },
  {
   "cell_type": "markdown",
   "metadata": {
    "colab_type": "text",
    "id": "3AhKGkink3v4"
   },
   "source": [
    "Let us create a real-value fitness function. In the beginning let it be the De Jong function http://www.geatbx.com/docu/fcnindex-01.html - a very simple convex one.\n"
   ]
  },
  {
   "cell_type": "code",
   "execution_count": 3,
   "metadata": {
    "colab": {},
    "colab_type": "code",
    "id": "atyVX5B_k77Y"
   },
   "outputs": [],
   "source": [
    "def calculate_fitness_dejong(population):\n",
    "    fitness_scores = np.zeros(len(population))\n",
    "    for i in range(len(population)):\n",
    "      current_fitness = 0\n",
    "      for j in range(len(population[i])):\n",
    "        current_fitness += population[i,j] * population[i,j]\n",
    "      fitness_scores[i]=current_fitness\n",
    "    return fitness_scores\n",
    "\n",
    "def calculate_fitness_rastrigin(population):\n",
    "    fitness_scores = np.zeros(len(population))\n",
    "    for i in range(len(population)):\n",
    "      current_fitness = 10 * len(population[i])\n",
    "      for j in range(len(population[i])):\n",
    "        current_fitness += population[i,j] * population[i,j] - 10 * math.cos(2*math.pi* population[i,j])        \n",
    "      fitness_scores[i]=current_fitness\n",
    "    return fitness_scores\n",
    "\n",
    "def calculate_fitness_schwefel(population):\n",
    "    fitness_scores = np.zeros(len(population))\n",
    "    dim = len(population[0])\n",
    "    for i in range(len(population)):\n",
    "      current_fitness = 418.9829 * dim\n",
    "      for j in range(len(population[i])):\n",
    "        current_fitness -= population[i,j] * math.sin(math.sqrt(math.fabs(population[i,j])))\n",
    "      fitness_scores[i]=current_fitness\n",
    "    return fitness_scores"
   ]
  },
  {
   "cell_type": "markdown",
   "metadata": {
    "colab_type": "text",
    "id": "BdnVR4G8k-ur"
   },
   "source": [
    "And try this function. Note that for 2d arrays, axis=0 will sum the \"columns\" while axis=1 will sum the \"rows\". fitness_scores will thus hold the number of genes equal to the reference."
   ]
  },
  {
   "cell_type": "code",
   "execution_count": 4,
   "metadata": {
    "colab": {
     "base_uri": "https://localhost:8080/",
     "height": 221
    },
    "colab_type": "code",
    "id": "L0tDQRKAlBk2",
    "outputId": "c7a99469-78b4-444b-8484-33ea72c72079"
   },
   "outputs": [
    {
     "name": "stdout",
     "output_type": "stream",
     "text": [
      "\n",
      "Starting population: \n",
      " [[ 3.57518671  2.42654671 -2.90168542]\n",
      " [ 3.70912134 -1.89301553  4.5134699 ]\n",
      " [-0.8196994  -1.45736789 -1.35988793]\n",
      " [ 1.52604819 -2.88159218  2.81442109]\n",
      " [-2.50577511 -2.43485098 -0.04679264]\n",
      " [ 2.06834159 -2.5768007   2.66309468]]\n",
      "\n",
      "Scores: \n",
      " [1254.00488765 1251.48906753 1260.20568094 1255.5678233  1261.89905229\n",
      " 1254.8156691 ]\n"
     ]
    }
   ],
   "source": [
    "population = create_starting_population(6, 3,5.12)\n",
    "print ('\\nStarting population: \\n', population)\n",
    "scores = calculate_fitness_schwefel(population)\n",
    "#scores = getattr(sys.modules[__name__], \"calculate_fitness\")(population)\n",
    "\n",
    "print('\\nScores: \\n', scores)"
   ]
  },
  {
   "cell_type": "markdown",
   "metadata": {
    "colab_type": "text",
    "id": "3YYIObqQld0-"
   },
   "source": [
    "The code for defining the selection method follows. This is a tournament selection. Note we have to choose the individual with lower fitness - this is a minimization problem."
   ]
  },
  {
   "cell_type": "code",
   "execution_count": 5,
   "metadata": {
    "colab": {},
    "colab_type": "code",
    "id": "WKXkq2sPlieh"
   },
   "outputs": [],
   "source": [
    "def select_individual_by_tournament(population, scores):\n",
    "    # Get population size\n",
    "    population_size = len(scores)\n",
    "    \n",
    "    # Pick individuals for tournament\n",
    "    fighter_1 = random.randint(0, population_size-1)\n",
    "    fighter_2 = random.randint(0, population_size-1)\n",
    "    \n",
    "    # Get fitness score for each\n",
    "    fighter_1_fitness = scores[fighter_1]\n",
    "    fighter_2_fitness = scores[fighter_2]\n",
    "    \n",
    "    # Identify undividual with highest fitness\n",
    "    # Fighter 1 will win if score are equal\n",
    "    if fighter_1_fitness <= fighter_2_fitness:\n",
    "        winner = fighter_1\n",
    "    else:\n",
    "        winner = fighter_2\n",
    "    \n",
    "    # Return the chromosome of the winner\n",
    "    return population[winner, :]\n",
    "\n",
    "def select_individual_by_roulette(population, scores):\n",
    "    inverse_fitness = (lambda x: 1/x)(scores)\n",
    "\n",
    "    sum_of_fitnesses = sum(inverse_fitness)\n",
    "    random_stop = random.uniform(0,sum_of_fitnesses)\n",
    "\n",
    "    current_sum=0\n",
    "    for i in range(len(inverse_fitness)):\n",
    "      current_sum+=inverse_fitness[i]\n",
    "      if current_sum >= random_stop:\n",
    "        return population[i, :]\n",
    "    return population[i, :]"
   ]
  },
  {
   "cell_type": "markdown",
   "metadata": {
    "colab_type": "text",
    "id": "5gd-fAnYlmFl"
   },
   "source": [
    "Let us try this."
   ]
  },
  {
   "cell_type": "code",
   "execution_count": 6,
   "metadata": {
    "colab": {
     "base_uri": "https://localhost:8080/",
     "height": 153
    },
    "colab_type": "code",
    "id": "zDYlw01ulnPu",
    "outputId": "a1f3138a-31c3-4597-b9bf-da24bf457cf0"
   },
   "outputs": [
    {
     "name": "stdout",
     "output_type": "stream",
     "text": [
      "Population:\n",
      "[[-0.57672463 -0.92088899 -0.63107069 -0.43760599 -0.06114063]\n",
      " [ 0.79357683 -0.70491957 -0.74205685  0.31679165  0.74447713]\n",
      " [-0.36797069 -0.5139182  -0.96420906  0.09428055  0.83552265]]\n",
      "Fitnesses:\n",
      "[1.77413523 2.33192729 2.03620038]\n",
      "The chosen parent:\n",
      "[ 0.79357683 -0.70491957 -0.74205685  0.31679165  0.74447713]\n"
     ]
    }
   ],
   "source": [
    "# Test the roulette\n",
    "population = create_starting_population(3, 5, 1)\n",
    "scores = calculate_fitness_dejong(population)\n",
    "print(\"Population:\")\n",
    "print(population)\n",
    "print(\"Fitnesses:\")\n",
    "print(scores)\n",
    "parent = select_individual_by_roulette(population,scores)\n",
    "print(\"The chosen parent:\")\n",
    "print(parent)\n"
   ]
  },
  {
   "cell_type": "markdown",
   "metadata": {
    "colab_type": "text",
    "id": "5uzSHKLvUbC4"
   },
   "source": [
    "Let us define the crossover method. Crossover is dependent on the representation, however the Python dynamic typing allows us to leave its implementation intact."
   ]
  },
  {
   "cell_type": "code",
   "execution_count": 7,
   "metadata": {
    "colab": {},
    "colab_type": "code",
    "id": "cy_-YcIBmJ5a"
   },
   "outputs": [],
   "source": [
    "def breed_by_spoint(parent_1, parent_2):\n",
    "    # Get length of chromosome\n",
    "    chromosome_length = len(parent_1)\n",
    "    \n",
    "    # Pick crossover point, avoding ends of chromsome\n",
    "    crossover_point = random.randint(1,chromosome_length-1)\n",
    "    \n",
    "    # Create children. np.hstack joins two arrays\n",
    "    child_1 = np.hstack((parent_1[0:crossover_point],\n",
    "                        parent_2[crossover_point:]))\n",
    "    \n",
    "    child_2 = np.hstack((parent_2[0:crossover_point],\n",
    "                        parent_1[crossover_point:]))\n",
    "    \n",
    "    # Return children\n",
    "    return child_1, child_2\n",
    "\n",
    "\n",
    "def breed_by_discrete(parent_1, parent_2):\n",
    "    # Get length of chromosome\n",
    "    chromosome_length = len(parent_1)\n",
    "    \n",
    "    child_1 = []\n",
    "    child_2 = []\n",
    "\n",
    "    for i in range(chromosome_length):\n",
    "      if random.uniform(0,1)<0.5:\n",
    "        child_1.append(parent_1[i])\n",
    "        child_2.append(parent_2[i])\n",
    "      else:\n",
    "        child_2.append(parent_1[i])\n",
    "        child_1.append(parent_2[i])\n",
    "\n",
    "    # Return children\n",
    "    return child_1, child_2\n",
    "\n",
    "\n",
    "def breed_by_randomaverage(parent_1, parent_2):\n",
    "    # Get length of chromosome\n",
    "    chromosome_length = len(parent_1)\n",
    "    \n",
    "    child_1 = []\n",
    "    child_2 = []\n",
    "\n",
    "    for i in range(chromosome_length):\n",
    "        child_1.append(random.uniform(parent_1[i],parent_2[i]))\n",
    "        child_2.append(random.uniform(parent_1[i],parent_2[i]))\n",
    "\n",
    "    # Return children\n",
    "    return child_1, child_2\n"
   ]
  },
  {
   "cell_type": "markdown",
   "metadata": {
    "colab_type": "text",
    "id": "u_tIYDZlmiH1"
   },
   "source": [
    "And test this of course."
   ]
  },
  {
   "cell_type": "code",
   "execution_count": 8,
   "metadata": {
    "colab": {
     "base_uri": "https://localhost:8080/",
     "height": 173
    },
    "colab_type": "code",
    "id": "sUJvUb9EmjWR",
    "outputId": "ef096243-787b-4c86-e9d4-52c75a8f4678"
   },
   "outputs": [
    {
     "name": "stdout",
     "output_type": "stream",
     "text": [
      "Parents\n",
      "[ 1.03140653 -3.24638252  4.31278327  2.39791008 -3.93290718  0.85152166\n",
      " -1.35282247  0.50853343  1.85090547 -5.07719334]\n",
      "[-2.89417619  0.36371553 -2.23144377  0.63367266  3.04326086  1.80806883\n",
      "  1.30942992 -2.91369625  1.89491977 -3.60573038]\n",
      "Children\n",
      "[-0.7114839936186437, -0.5163951399821869, 1.1799757200639043, 1.9205049844437105, 0.32705920868512184, 1.4261845397131683, 0.3950814750492899, -2.50850922251169, 1.8878692890863407, -4.402561774329952]\n",
      "[-0.5438120798278099, -2.13934832965667, -0.37547099299818854, 1.7206303698551664, -2.559602491854784, 1.6537747679307762, -0.6773466969935393, -1.6866658154013723, 1.865399714429472, -4.036675575517664]\n"
     ]
    }
   ],
   "source": [
    "# Set up and score population\n",
    "population = create_starting_population(100, 10,5.12)\n",
    "scores = calculate_fitness_dejong(population)\n",
    "\n",
    "# Pick two parents and dispplay\n",
    "parent_1 = select_individual_by_tournament(population, scores)\n",
    "parent_2 = select_individual_by_tournament(population, scores)\n",
    "\n",
    "# Get children\n",
    "child_1, child_2 = breed_by_randomaverage(parent_1, parent_2)\n",
    "\n",
    "# Show output\n",
    "print ('Parents')\n",
    "print (parent_1)\n",
    "print (parent_2)\n",
    "print ('Children')\n",
    "print (child_1)\n",
    "print (child_2)"
   ]
  },
  {
   "cell_type": "markdown",
   "metadata": {
    "colab_type": "text",
    "id": "Lg2UFi-tpu5K"
   },
   "source": [
    "Now the procedure for random mutation follows. We can't flip the gene - now it should be randomly modified. Say, we will add a small distortion to each gene, chosen from the range [-0.1,0.1] - of course the deviation should be a parameter of the algorithm."
   ]
  },
  {
   "cell_type": "code",
   "execution_count": 9,
   "metadata": {
    "colab": {},
    "colab_type": "code",
    "id": "y2EZmNcfpylQ"
   },
   "outputs": [],
   "source": [
    "def randomly_mutate_uniform(population, mutation_probability, mutation_range):\n",
    "    \n",
    "    # Apply random mutation      \n",
    "        for i in range(len(population)):\n",
    "          for j in range(len(population[1])):\n",
    "            if random.uniform(0,1) < mutation_probability:\n",
    "              population[i,j] += random.uniform(-mutation_range,mutation_range)\n",
    "\n",
    "        # Return mutation population\n",
    "        return population\n",
    "\n",
    "def randomly_mutate_gaussian(population, mutation_probability, mutation_range):\n",
    "    \n",
    "    # Apply random mutation      \n",
    "        for i in range(len(population)):\n",
    "          for j in range(len(population[1])):\n",
    "            if random.uniform(0,1) < mutation_probability:\n",
    "              population[i,j] = random.gauss(population[i,j],mutation_range)\n",
    "\n",
    "        # Return mutation population\n",
    "        return population\n",
    "    \n",
    "def randomly_mutate_boundary(population, mutation_probability, mutation_range):   \n",
    "    # Warning - the mutation probability must be small and mutation range must equal to the half of hypercube edge\n",
    "        for i in range(len(population)):\n",
    "          for j in range(len(population[1])):\n",
    "            if random.uniform(0,1) < mutation_probability:\n",
    "              if random.uniform(0,1)<0.5:\n",
    "                population[i,j] = -mutation_range\n",
    "              else:\n",
    "                population[i,j] = mutation_range\n",
    "\n",
    "        # Return mutation population\n",
    "        return population\n",
    "    "
   ]
  },
  {
   "cell_type": "markdown",
   "metadata": {
    "colab_type": "text",
    "id": "s35uGPOep0eu"
   },
   "source": [
    "And let us test this one too."
   ]
  },
  {
   "cell_type": "code",
   "execution_count": 11,
   "metadata": {
    "colab": {
     "base_uri": "https://localhost:8080/",
     "height": 255
    },
    "colab_type": "code",
    "id": "aNxiSJ3Up2jw",
    "outputId": "a9d5d61a-3fc1-4b98-c3bc-a44a5b7a6867"
   },
   "outputs": [
    {
     "name": "stdout",
     "output_type": "stream",
     "text": [
      "Population before mutation\n",
      "[[ 4.13353776  3.63357943 -3.88002648  2.45442111  1.99839989  0.13857751\n",
      "  -0.5520425  -2.29327546  2.23152751 -1.92548306 -3.78325492 -3.85116311\n",
      "   1.94272821  1.25999999 -0.07074238]\n",
      " [-3.28418663 -4.55195719  0.93841223  2.3617044   3.03434551  0.78685405\n",
      "   4.9008313   3.68157808 -0.63246277 -0.90018445  4.22120614 -2.69418209\n",
      "  -4.93445454 -2.33455624  2.29080841]]\n",
      "Population after mutation\n",
      "[[ 4.13353776  3.63357943 -3.88002648  2.45442111  1.99839989  0.13857751\n",
      "  -0.5520425  -0.01        2.23152751 -1.92548306 -0.01       -0.01\n",
      "   1.94272821 -0.01       -0.07074238]\n",
      " [-3.28418663 -4.55195719  0.93841223  2.3617044   3.03434551  0.78685405\n",
      "   4.9008313   3.68157808 -0.63246277 -0.90018445  4.22120614 -2.69418209\n",
      "  -4.93445454 -2.33455624  2.29080841]]\n"
     ]
    }
   ],
   "source": [
    "population = create_starting_population(100, 15,5.12)\n",
    "scores = calculate_fitness_dejong(population)\n",
    "\n",
    "# Pick two parents and display\n",
    "parent_1 = select_individual_by_tournament(population, scores)\n",
    "parent_2 = select_individual_by_tournament(population, scores)\n",
    "\n",
    "# Get children and make new population \n",
    "child_1, child_2 = breed_by_spoint(parent_1, parent_2)\n",
    "population = np.stack((child_1, child_2))\n",
    "\n",
    "# Mutate population\n",
    "print (\"Population before mutation\")\n",
    "print (population)\n",
    "population = randomly_mutate_boundary(population, 0.25, 0.01)\n",
    "print (\"Population after mutation\")\n",
    "print (population)"
   ]
  },
  {
   "cell_type": "markdown",
   "metadata": {
    "colab_type": "text",
    "id": "_OszMxJ9Uj1O"
   },
   "source": [
    "The code of the main algorithm follows."
   ]
  },
  {
   "cell_type": "code",
   "execution_count": 13,
   "metadata": {
    "colab": {
     "base_uri": "https://localhost:8080/",
     "height": 347
    },
    "colab_type": "code",
    "id": "bUjESRvFgPeb",
    "outputId": "35fecfb5-146d-4275-8040-9b243c267f3c"
   },
   "outputs": [
    {
     "name": "stdout",
     "output_type": "stream",
     "text": [
      "Starting best score, % target:  1719.245351744204\n",
      "End best score, % target:  1151.6319897792046\n",
      "Starting best score, % target:  1661.7549491793159\n",
      "End best score, % target:  1177.3486245628878\n"
     ]
    },
    {
     "data": {
      "image/png": "[encoded data removed]",
      "text/plain": [
       "<Figure size 432x288 with 1 Axes>"
      ]
     },
     "metadata": {
      "needs_background": "light"
     },
     "output_type": "display_data"
    }
   ],
   "source": [
    "# *************************************\n",
    "# ******** MAIN ALGORITHM CODE ********\n",
    "# *************************************\n",
    "\n",
    "# Constant for all\n",
    "chromosome_length = 100\n",
    "hypercube_size = 5.12\n",
    "population_size = 30 # this number must be even\n",
    "maximum_generation = 100\n",
    "current_fitness_function = \"rastrigin\"\n",
    "\n",
    "\n",
    "\n",
    "\n",
    "# To be set individually\n",
    "current_selection_function = \"tournament\"\n",
    "current_crossover_method = \"spoint\"\n",
    "current_mutation_function = \"uniform\"\n",
    "mutation_probability = 0.2\n",
    "mutation_range = 0.01\n",
    "\n",
    "\n",
    "\n",
    "\n",
    "\n",
    "\n",
    "def run_main_algorithm(current_selection_function, current_crossover_method, current_mutation_function, mutation_probability, mutation_range):\n",
    "  best_score_progress = [] # Tracks progress\n",
    "  # Create starting population\n",
    "  population = create_starting_population(population_size, chromosome_length,hypercube_size)\n",
    "\n",
    "\n",
    "  selection_function = getattr(sys.modules[__name__], \"select_individual_by_%s\" % current_selection_function)\n",
    "  crossover_function = getattr(sys.modules[__name__], \"breed_by_%s\" % current_crossover_method)\n",
    "  mutation_function = getattr(sys.modules[__name__], \"randomly_mutate_%s\" % current_mutation_function)\n",
    "  fitness_function = getattr(sys.modules[__name__], \"calculate_fitness_%s\"%current_fitness_function)\n",
    "\n",
    "\n",
    "  # Display best score in starting population\n",
    "  scores = fitness_function(population)\n",
    "  best_score = np.min(scores)\n",
    "  print ('Starting best score, % target: ',best_score)\n",
    "\n",
    "  # Add starting best score to progress tracker\n",
    "  best_score_progress.append(best_score)\n",
    "\n",
    "  \n",
    "  # Now we'll go through the generations of genetic algorithm\n",
    "  for generation in range(maximum_generation):\n",
    "      # Create an empty list for new population\n",
    "      new_population = []\n",
    "    \n",
    "\n",
    "      # Create new popualtion generating two children at a time\n",
    "      for i in range(int(population_size/2)):\n",
    "          parent_1 = selection_function(population,scores)\n",
    "          parent_2 = selection_function(population,scores)\n",
    "          child_1, child_2 = crossover_function(parent_1, parent_2)\n",
    "          new_population.append(child_1)\n",
    "          new_population.append(child_2)\n",
    "      \n",
    "      # Replace the old population with the new one\n",
    "      population = np.array(new_population)\n",
    "\n",
    "      # Apply mutation\n",
    "      population = mutation_function(population, mutation_probability, mutation_range)\n",
    "      \n",
    "      # Score best solution, and add to tracker\n",
    "      #scores = calculate_fitness(population)\n",
    "      scores = fitness_function(population)\n",
    "      best_score = np.min(scores)\n",
    "      best_score_progress.append(best_score)\n",
    "\n",
    "  # GA has completed required generation\n",
    "  print ('End best score, % target: ', best_score)\n",
    "  return best_score_progress\n",
    "\n",
    "\n",
    "\n",
    "\n",
    "\n",
    "bsp = run_main_algorithm(\"tournament\",\"spoint\",\"uniform\",0.2,0.01)\n",
    "bsp2 = run_main_algorithm(\"tournament\",\"spoint\",\"uniform\",0.2,0.01)\n",
    "\n",
    "# Plot progress\n",
    "import matplotlib.pyplot as plt\n",
    "plt.plot(bsp, label='sample')\n",
    "plt.plot(bsp2, label='sample2')\n",
    "\n",
    "plt.xlabel('Generation')\n",
    "plt.ylabel('Best score (% target)')\n",
    "plt.legend()\n",
    "plt.show()"
   ]
  },
  {
   "cell_type": "markdown",
   "metadata": {
    "colab_type": "text",
    "id": "9XGB6R5EiL4T"
   },
   "source": [
    "Adapted from: [https://pythonhealthcare.org/](https://pythonhealthcare.org/) prepared by Michael Allen \n",
    "m.allen@exeter.ac.uk"
   ]
  }
 ],
 "metadata": {
  "colab": {
   "collapsed_sections": [],
   "name": "4-GeneticAlgorithmRealValue-Problems.ipynb",
   "provenance": []
  },
  "kernelspec": {
   "display_name": "Python 3",
   "language": "python",
   "name": "python3"
  },
  "language_info": {
   "codemirror_mode": {
    "name": "ipython",
    "version": 3
   },
   "file_extension": ".py",
   "mimetype": "text/x-python",
   "name": "python",
   "nbconvert_exporter": "python",
   "pygments_lexer": "ipython3",
   "version": "3.7.4"
  }
 },
 "nbformat": 4,
 "nbformat_minor": 1
}
