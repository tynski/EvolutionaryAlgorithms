{
 "cells": [
  {
   "cell_type": "markdown",
   "metadata": {
    "colab_type": "text",
    "id": "Y10yNlrUhQZj"
   },
   "source": [
    "Let us start with creating a reference solution. The goal of the evolution will be to find this solution. First take a look at the code used for creating one solution. An array with equal number of zeros and ones is created."
   ]
  },
  {
   "cell_type": "code",
   "execution_count": 1,
   "metadata": {
    "colab": {},
    "colab_type": "code",
    "id": "GKsggHhwhLmX"
   },
   "outputs": [],
   "source": [
    "import random\n",
    "import numpy as np\n",
    "\n",
    "def create_reference_solution(chromosome_length):\n",
    "\n",
    "    number_of_ones = int(chromosome_length / 2)\n",
    "\n",
    "    # Build an array with an equal mix of zero and ones\n",
    "    reference = np.zeros(chromosome_length)\n",
    "    reference[0: number_of_ones] = 1\n",
    "\n",
    "    # Shuffle the array to mix the zeros and ones\n",
    "    np.random.shuffle(reference)\n",
    "    \n",
    "    return reference"
   ]
  },
  {
   "cell_type": "markdown",
   "metadata": {
    "colab_type": "text",
    "id": "sf58g8POhand"
   },
   "source": [
    "*Now* let us try to use it, let us create several reference solutions (of different lengths)."
   ]
  },
  {
   "cell_type": "code",
   "execution_count": 2,
   "metadata": {
    "colab": {
     "base_uri": "https://localhost:8080/",
     "height": 69
    },
    "colab_type": "code",
    "executionInfo": {
     "elapsed": 825,
     "status": "ok",
     "timestamp": 1573204273111,
     "user": {
      "displayName": "Bartosz Tyński",
      "photoUrl": "https://lh3.googleusercontent.com/a-/AAuE7mBxHokko_fX3-K76cnqxpYAJwX6t8SqQG2abDF2cQ=s64",
      "userId": "15829486032166349585"
     },
     "user_tz": -60
    },
    "id": "LLl_wboahlvw",
    "outputId": "1b102bd0-8dc7-4beb-ac2d-528526b03849"
   },
   "outputs": [
    {
     "name": "stdout",
     "output_type": "stream",
     "text": [
      "[1. 1. 1. 0. 1. 1. 1. 0. 0. 1. 0. 1. 1. 0. 1. 0. 1. 0. 1. 1. 1. 1. 0. 1.\n",
      " 0. 1. 1. 0. 0. 1. 1. 1. 0. 0. 0. 1. 0. 1. 0. 1. 0. 0. 1. 0. 1. 0. 1. 0.\n",
      " 1. 0. 1. 0. 1. 1. 1. 0. 0. 0. 0. 0. 1. 0. 0. 0. 0. 0. 0. 1. 0. 1.]\n"
     ]
    }
   ],
   "source": [
    "# Print an example target array\n",
    "print (create_reference_solution(70))"
   ]
  },
  {
   "cell_type": "markdown",
   "metadata": {
    "colab_type": "text",
    "id": "LawHVjGnjSAg"
   },
   "source": [
    "# Standard Distribution \n",
    "Now let us focus on creating a starting population. (-1,1)"
   ]
  },
  {
   "cell_type": "code",
   "execution_count": 3,
   "metadata": {
    "colab": {},
    "colab_type": "code",
    "id": "wenz4Px_jXOn"
   },
   "outputs": [],
   "source": [
    "\n",
    "def create_starting_population(individuals, chromosome_length):\n",
    "    # Set up an initial array of all zeros\n",
    "    population = 2 * np.random.random((individuals, chromosome_length)) - 1\n",
    "    # Loop through each row (individual)\n",
    "    #for i in range(individuals):\n",
    "        # Choose a random number of ones to create\n",
    "        #ones = random.randint(0, chromosome_length)\n",
    "        # Change the required number of zeros to ones\n",
    "        #population[i, 0:ones] = 1\n",
    "        # Sfuffle row\n",
    "        #np.random.shuffle(population)\n",
    "    np.random.shuffle(population)\n",
    "    return population\n",
    "\n"
   ]
  },
  {
   "cell_type": "markdown",
   "metadata": {
    "colab_type": "text",
    "id": "1yoKoi9tjaFG"
   },
   "source": [
    "Let's try to use the code above to create sample populations. Of course this should be a two-dimensional array of genotypes. Let us change the number of individuals and the length of chromosomes."
   ]
  },
  {
   "cell_type": "code",
   "execution_count": 4,
   "metadata": {
    "colab": {
     "base_uri": "https://localhost:8080/",
     "height": 156
    },
    "colab_type": "code",
    "executionInfo": {
     "elapsed": 712,
     "status": "ok",
     "timestamp": 1573212293039,
     "user": {
      "displayName": "Bartosz Tyński",
      "photoUrl": "https://lh3.googleusercontent.com/a-/AAuE7mBxHokko_fX3-K76cnqxpYAJwX6t8SqQG2abDF2cQ=s64",
      "userId": "15829486032166349585"
     },
     "user_tz": -60
    },
    "id": "BgZ-LcqUjdoU",
    "outputId": "9d1bc0da-b2f3-4caf-fae7-8e4f4e111237"
   },
   "outputs": [
    {
     "name": "stdout",
     "output_type": "stream",
     "text": [
      "[[ 0.13513397 -0.18665614  0.23807105 -0.66834683  0.90954152 -0.9681912\n",
      "   0.14371197 -0.01403547  0.90951701  0.3516229 ]\n",
      " [ 0.2337567  -0.53856263 -0.0136459   0.81854314 -0.47236274 -0.15680274\n",
      "   0.87749204  0.54986577  0.24752028 -0.23853125]\n",
      " [ 0.60906798  0.95908003 -0.51958833 -0.27834822  0.56402577  0.92582187\n",
      "  -0.37645883  0.21017704 -0.48542642 -0.59523301]\n",
      " [-0.02212459 -0.31543273 -0.85521796 -0.50631201  0.52459387 -0.28761337\n",
      "   0.79523501  0.72140787 -0.95546893 -0.2496954 ]]\n"
     ]
    }
   ],
   "source": [
    "print (create_starting_population(4, 10))"
   ]
  },
  {
   "cell_type": "markdown",
   "metadata": {
    "colab_type": "text",
    "id": "3AhKGkink3v4"
   },
   "source": [
    "# DeJong\n",
    "Now let us calculate fitness of such defined population."
   ]
  },
  {
   "cell_type": "code",
   "execution_count": 5,
   "metadata": {
    "colab": {},
    "colab_type": "code",
    "id": "atyVX5B_k77Y"
   },
   "outputs": [],
   "source": [
    "def calculate_fitness(population):\n",
    "    # Create an array of True/False compared to reference\n",
    "    #identical_to_reference = population == reference\n",
    "    # Sum number of genes that are identical to the reference\n",
    "    #fitness_scores = identical_to_reference.sum(axis=1)\n",
    "    fitness_scores = np.zeros(len(population))\n",
    "    for i in range(len(population)):\n",
    "      current_fitness = 0\n",
    "      for j in range(len(population[i])):\n",
    "        current_fitness += population[i][j] * population[i][j]\n",
    "      fitness_scores[i] = current_fitness\n",
    "\n",
    "    return fitness_scores"
   ]
  },
  {
   "cell_type": "markdown",
   "metadata": {
    "colab_type": "text",
    "id": "BdnVR4G8k-ur"
   },
   "source": [
    "And try this function. Note that for 2d arrays, axis=0 will sum the \"columns\" while axis=1 will sum the \"rows\". fitness_scores will thus hold the number of genes equal to the reference."
   ]
  },
  {
   "cell_type": "code",
   "execution_count": 6,
   "metadata": {
    "colab": {
     "base_uri": "https://localhost:8080/",
     "height": 312
    },
    "colab_type": "code",
    "executionInfo": {
     "elapsed": 703,
     "status": "ok",
     "timestamp": 1573212314378,
     "user": {
      "displayName": "Bartosz Tyński",
      "photoUrl": "https://lh3.googleusercontent.com/a-/AAuE7mBxHokko_fX3-K76cnqxpYAJwX6t8SqQG2abDF2cQ=s64",
      "userId": "15829486032166349585"
     },
     "user_tz": -60
    },
    "id": "L0tDQRKAlBk2",
    "outputId": "ce9976b1-f0cd-4de8-c009-46175735f184"
   },
   "outputs": [
    {
     "name": "stdout",
     "output_type": "stream",
     "text": [
      "\n",
      "Starting population: \n",
      " [[ 0.27102363 -0.92703606  0.00333265  0.68698664  0.94814337 -0.07866012\n",
      "  -0.0459506   0.21604767  0.08943397  0.75056763]\n",
      " [-0.64626029  0.51566067 -0.48979681 -0.67342642 -0.46105554  0.7939793\n",
      "   0.75965437  0.53539561  0.23146026  0.56144233]\n",
      " [-0.67438947  0.60543298 -0.31278732 -0.13804525  0.31252524  0.27429884\n",
      "   0.98041399  0.73301848 -0.80609683 -0.42367001]\n",
      " [ 0.62492997 -0.36326093 -0.1596959  -0.77036364 -0.77601058  0.92113866\n",
      "   0.84211113 -0.651867   -0.58784436  0.95430943]\n",
      " [ 0.13808352  0.31180357  0.5952516   0.57020381 -0.86231239 -0.66651187\n",
      "  -0.10127843 -0.24820194 -0.14664884  0.42574686]\n",
      " [ 0.42730725 -0.02855704 -0.82741648  0.03869403 -0.73050822 -0.17349517\n",
      "   0.2269326   0.75970584  0.4689745   0.79662231]]\n",
      "\n",
      "Scores: \n",
      " [2.93011294 3.45245227 3.43897058 4.98249695 2.25819388 2.91646064]\n"
     ]
    }
   ],
   "source": [
    "# reference = create_reference_solution(10)\n",
    "# print ('Reference solution: \\n', reference)\n",
    "population = create_starting_population(6, 10)\n",
    "print ('\\nStarting population: \\n', population)\n",
    "scores = calculate_fitness(population)\n",
    "print('\\nScores: \\n', scores)"
   ]
  },
  {
   "cell_type": "markdown",
   "metadata": {
    "colab_type": "text",
    "id": "3YYIObqQld0-"
   },
   "source": [
    "# Selection\n",
    "The code for defining the selection method follows. This is a tournament selection. Now we are minimizing"
   ]
  },
  {
   "cell_type": "code",
   "execution_count": 7,
   "metadata": {
    "colab": {},
    "colab_type": "code",
    "id": "WKXkq2sPlieh"
   },
   "outputs": [],
   "source": [
    "def select_individual_by_tournament(population, scores):\n",
    "    # Get population size\n",
    "    population_size = len(scores)\n",
    "    \n",
    "    # Pick individuals for tournament\n",
    "    fighter_1 = random.randint(0, population_size-1)\n",
    "    fighter_2 = random.randint(0, population_size-1)\n",
    "    \n",
    "    # Get fitness score for each\n",
    "    fighter_1_fitness = scores[fighter_1]\n",
    "    fighter_2_fitness = scores[fighter_2]\n",
    "    \n",
    "    # Identify undividual with highest fitness\n",
    "    # Fighter 1 will win if score are equal\n",
    "    #if fighter_1_fitness >= fighter_2_fitness:\n",
    "    if fighter_1_fitness <= fighter_2_fitness:    \n",
    "        winner = fighter_1\n",
    "    else:\n",
    "        winner = fighter_2\n",
    "    \n",
    "    # Return the chromosome of the winner\n",
    "    return population[winner, :]"
   ]
  },
  {
   "cell_type": "markdown",
   "metadata": {
    "colab_type": "text",
    "id": "5gd-fAnYlmFl"
   },
   "source": [
    "Let us try this."
   ]
  },
  {
   "cell_type": "code",
   "execution_count": 8,
   "metadata": {
    "colab": {
     "base_uri": "https://localhost:8080/",
     "height": 86
    },
    "colab_type": "code",
    "executionInfo": {
     "elapsed": 730,
     "status": "ok",
     "timestamp": 1573212335576,
     "user": {
      "displayName": "Bartosz Tyński",
      "photoUrl": "https://lh3.googleusercontent.com/a-/AAuE7mBxHokko_fX3-K76cnqxpYAJwX6t8SqQG2abDF2cQ=s64",
      "userId": "15829486032166349585"
     },
     "user_tz": -60
    },
    "id": "zDYlw01ulnPu",
    "outputId": "14dd737a-0302-42e3-b162-ca94ee06a454"
   },
   "outputs": [
    {
     "name": "stdout",
     "output_type": "stream",
     "text": [
      "[ 0.15596146  0.1538344  -0.17656867 -0.22245966 -0.42065797 -0.69547641\n",
      " -0.1558655  -0.13046287  0.93172311 -0.51272339]\n",
      "[-0.68248456  0.18049505 -0.39881297  0.09462809 -0.46608832  0.70794848\n",
      "  0.10240369 -0.56181148  0.42776068 -0.93365626]\n"
     ]
    }
   ],
   "source": [
    "# Set up and score population\n",
    "#reference = create_reference_solution(10)\n",
    "population = create_starting_population(6, 10)\n",
    "scores = calculate_fitness(population)\n",
    "\n",
    "# Pick two parents and display\n",
    "parent_1 = select_individual_by_tournament(population, scores)\n",
    "parent_2 = select_individual_by_tournament(population, scores)\n",
    "print (parent_1)\n",
    "print (parent_2)"
   ]
  },
  {
   "cell_type": "markdown",
   "metadata": {
    "colab_type": "text",
    "id": "5uzSHKLvUbC4"
   },
   "source": [
    "Let us define the crossover method. Hstack puts together two arrays horizontally (thus creating new one)."
   ]
  },
  {
   "cell_type": "code",
   "execution_count": 9,
   "metadata": {
    "colab": {},
    "colab_type": "code",
    "id": "cy_-YcIBmJ5a"
   },
   "outputs": [],
   "source": [
    "def breed_by_crossover(parent_1, parent_2):\n",
    "    # Get length of chromosome\n",
    "    chromosome_length = len(parent_1)\n",
    "    \n",
    "    # Pick crossover point, avoding ends of chromsome\n",
    "    crossover_point = random.randint(1,chromosome_length-1)\n",
    "    \n",
    "    # Create children. np.hstack joins two arrays\n",
    "    child_1 = np.hstack((parent_1[0:crossover_point],\n",
    "                        parent_2[crossover_point:]))\n",
    "    \n",
    "    child_2 = np.hstack((parent_2[0:crossover_point],\n",
    "                        parent_1[crossover_point:]))\n",
    "    \n",
    "    # Return children\n",
    "    return child_1, child_2"
   ]
  },
  {
   "cell_type": "markdown",
   "metadata": {
    "colab_type": "text",
    "id": "u_tIYDZlmiH1"
   },
   "source": [
    "And test this of course."
   ]
  },
  {
   "cell_type": "code",
   "execution_count": 10,
   "metadata": {
    "colab": {
     "base_uri": "https://localhost:8080/",
     "height": 260
    },
    "colab_type": "code",
    "executionInfo": {
     "elapsed": 671,
     "status": "ok",
     "timestamp": 1573212357482,
     "user": {
      "displayName": "Bartosz Tyński",
      "photoUrl": "https://lh3.googleusercontent.com/a-/AAuE7mBxHokko_fX3-K76cnqxpYAJwX6t8SqQG2abDF2cQ=s64",
      "userId": "15829486032166349585"
     },
     "user_tz": -60
    },
    "id": "sUJvUb9EmjWR",
    "outputId": "7671663c-3ac6-43da-bce1-1c79f87f3cc4"
   },
   "outputs": [
    {
     "name": "stdout",
     "output_type": "stream",
     "text": [
      "Parents\n",
      "[ 0.33902461 -0.72807673 -0.641672    0.4279166   0.51789622  0.90965427\n",
      "  0.48862402  0.41352952  0.66056005 -0.24239471  0.01659727  0.70997961\n",
      "  0.87500356 -0.73533144  0.46633438]\n",
      "[-0.25258075 -0.12837891 -0.72938104 -0.6240749  -0.90595642  0.31180129\n",
      "  0.56648672  0.08327117  0.05365932  0.39071585 -0.45281769  0.33111511\n",
      "  0.73227644 -0.21843667  0.40018581]\n",
      "Children\n",
      "[ 0.33902461 -0.72807673 -0.641672    0.4279166   0.51789622  0.90965427\n",
      "  0.48862402  0.41352952  0.66056005 -0.24239471  0.01659727  0.70997961\n",
      "  0.73227644 -0.21843667  0.40018581]\n",
      "[-0.25258075 -0.12837891 -0.72938104 -0.6240749  -0.90595642  0.31180129\n",
      "  0.56648672  0.08327117  0.05365932  0.39071585 -0.45281769  0.33111511\n",
      "  0.87500356 -0.73533144  0.46633438]\n"
     ]
    }
   ],
   "source": [
    "# Set up and score population\n",
    "#reference = create_reference_solution(15)\n",
    "population = create_starting_population(100, 15)\n",
    "scores = calculate_fitness(population)\n",
    "\n",
    "# Pick two parents and dispplay\n",
    "parent_1 = select_individual_by_tournament(population, scores)\n",
    "parent_2 = select_individual_by_tournament(population, scores)\n",
    "\n",
    "# Get children\n",
    "child_1, child_2 = breed_by_crossover(parent_1, parent_2)\n",
    "\n",
    "# Show output\n",
    "print ('Parents')\n",
    "print (parent_1)\n",
    "print (parent_2)\n",
    "print ('Children')\n",
    "print (child_1)\n",
    "print (child_2)"
   ]
  },
  {
   "cell_type": "markdown",
   "metadata": {
    "colab_type": "text",
    "id": "Lg2UFi-tpu5K"
   },
   "source": [
    "Now the procedure for random mutation follows. Roulette"
   ]
  },
  {
   "cell_type": "code",
   "execution_count": 11,
   "metadata": {
    "colab": {},
    "colab_type": "code",
    "id": "y2EZmNcfpylQ"
   },
   "outputs": [],
   "source": [
    "# def randomly_mutate_population(population, mutation_probability):\n",
    "    \n",
    "#     # Apply random mutation\n",
    "#         random_mutation_array = np.random.random(\n",
    "#             size=(population.shape))\n",
    "        \n",
    "#         random_mutation_boolean = \\\n",
    "#             random_mutation_array <= mutation_probability\n",
    "\n",
    "#         population[random_mutation_boolean] = \\\n",
    "#         np.logical_not(population[random_mutation_boolean])\n",
    "        \n",
    "#         # Return mutation population\n",
    "#         return population\n",
    "\n",
    "def randomly_mutate_population(population, mutation_probability):\n",
    "  for i in range (len(population)):\n",
    "    for j in range (len(population[i])):\n",
    "      if (random.uniform(0,1) < mutation_probability ):\n",
    "        population[i][j] += random.uniform(-0.05, 0.05)\n",
    "  \n",
    "  return population"
   ]
  },
  {
   "cell_type": "markdown",
   "metadata": {
    "colab_type": "text",
    "id": "s35uGPOep0eu"
   },
   "source": [
    "And let us test this one too."
   ]
  },
  {
   "cell_type": "code",
   "execution_count": 13,
   "metadata": {
    "colab": {
     "base_uri": "https://localhost:8080/",
     "height": 260
    },
    "colab_type": "code",
    "executionInfo": {
     "elapsed": 572,
     "status": "ok",
     "timestamp": 1573211872642,
     "user": {
      "displayName": "Bartosz Tyński",
      "photoUrl": "https://lh3.googleusercontent.com/a-/AAuE7mBxHokko_fX3-K76cnqxpYAJwX6t8SqQG2abDF2cQ=s64",
      "userId": "15829486032166349585"
     },
     "user_tz": -60
    },
    "id": "aNxiSJ3Up2jw",
    "outputId": "58f6fc49-b61c-4d2c-9402-daed265d3bf7"
   },
   "outputs": [
    {
     "name": "stdout",
     "output_type": "stream",
     "text": [
      "Population before mutation\n",
      "[[-0.94656947  0.35481641  0.28800491 -0.0688045   0.54519283  0.16827169\n",
      "  -0.79211343  0.95889587  0.13585387  0.34808814  0.44812989  0.08673957\n",
      "   0.31778158 -0.06428275 -0.38848348]\n",
      " [-0.63487232 -0.1786624   0.85326302  0.0338572  -0.51247008  0.67841316\n",
      "  -0.41809108  0.85761313  0.97053152  0.09956611 -0.78791824  0.36785761\n",
      "   0.84805643  0.9995865   0.00171676]]\n",
      "Population after mutation\n",
      "[[-0.899214    0.35481641  0.28800491 -0.0688045   0.54519283  0.15831453\n",
      "  -0.79211343  0.95889587  0.13585387  0.31907117  0.49661196  0.08673957\n",
      "   0.31778158 -0.02053097 -0.38848348]\n",
      " [-0.63487232 -0.22459607  0.87283012  0.0338572  -0.51247008  0.67841316\n",
      "  -0.41327127  0.85761313  0.97053152  0.09956611 -0.78791824  0.36785761\n",
      "   0.84805643  1.01712877  0.00171676]]\n"
     ]
    }
   ],
   "source": [
    "# Set up and score population\n",
    "reference = create_reference_solution(15)\n",
    "population = create_starting_population(100, 15)\n",
    "scores = calculate_fitness(population)\n",
    "\n",
    "# Pick two parents and display\n",
    "parent_1 = select_individual_by_tournament(population, scores)\n",
    "parent_2 = select_individual_by_tournament(population, scores)\n",
    "\n",
    "# Get children and make new population \n",
    "child_1, child_2 = breed_by_crossover(parent_1, parent_2)\n",
    "population = np.stack((child_1, child_2))\n",
    "\n",
    "# Mutate population\n",
    "mutation_probability = 0.25\n",
    "print (\"Population before mutation\")\n",
    "print (population)\n",
    "population = randomly_mutate_population(population, mutation_probability)\n",
    "print (\"Population after mutation\")\n",
    "print (population)"
   ]
  },
  {
   "cell_type": "markdown",
   "metadata": {
    "colab_type": "text",
    "id": "_OszMxJ9Uj1O"
   },
   "source": [
    "The code of the main algorithm follows."
   ]
  },
  {
   "cell_type": "code",
   "execution_count": 14,
   "metadata": {
    "colab": {
     "base_uri": "https://localhost:8080/",
     "height": 314
    },
    "colab_type": "code",
    "executionInfo": {
     "elapsed": 11058,
     "status": "ok",
     "timestamp": 1573212466849,
     "user": {
      "displayName": "Bartosz Tyński",
      "photoUrl": "https://lh3.googleusercontent.com/a-/AAuE7mBxHokko_fX3-K76cnqxpYAJwX6t8SqQG2abDF2cQ=s64",
      "userId": "15829486032166349585"
     },
     "user_tz": -60
    },
    "id": "bUjESRvFgPeb",
    "outputId": "359f8a9e-7fd8-4e27-cef7-49e3aabc6318"
   },
   "outputs": [
    {
     "name": "stdout",
     "output_type": "stream",
     "text": [
      "Starting best score, % target:  23.59363438556044\n",
      "End best score, % target:  0.29658666475100465\n"
     ]
    },
    {
     "data": {
      "text/plain": [
       "<Figure size 640x480 with 1 Axes>"
      ]
     },
     "metadata": {},
     "output_type": "display_data"
    }
   ],
   "source": [
    "# *************************************\n",
    "# ******** MAIN ALGORITHM CODE ********\n",
    "# *************************************\n",
    "\n",
    "# Set general parameters\n",
    "chromosome_length = 75\n",
    "population_size = 500\n",
    "maximum_generation = 200\n",
    "best_score_progress = [] # Tracks progress\n",
    "\n",
    "# Create reference solution \n",
    "# (this is used just to illustrate GAs)\n",
    "#reference = create_reference_solution(chromosome_length)\n",
    "\n",
    "# Create starting population\n",
    "population = create_starting_population(population_size, chromosome_length)\n",
    "\n",
    "# Display best score in starting population\n",
    "scores = calculate_fitness(population)\n",
    "best_score = np.min(scores)/chromosome_length * 100\n",
    "print ('Starting best score, % target: ',best_score)\n",
    "\n",
    "# Add starting best score to progress tracker\n",
    "best_score_progress.append(best_score)\n",
    "\n",
    "# Now we'll go through the generations of genetic algorithm\n",
    "for generation in range(maximum_generation):\n",
    "    # Create an empty list for new population\n",
    "    new_population = []\n",
    "    \n",
    "    # Create new popualtion generating two children at a time\n",
    "    for i in range(int(population_size/2)):\n",
    "        parent_1 = select_individual_by_tournament(population, scores)\n",
    "        parent_2 = select_individual_by_tournament(population, scores)\n",
    "        child_1, child_2 = breed_by_crossover(parent_1, parent_2)\n",
    "        new_population.append(child_1)\n",
    "        new_population.append(child_2)\n",
    "    \n",
    "    # Replace the old population with the new one\n",
    "    population = np.array(new_population)\n",
    "\n",
    "    # Apply mutation\n",
    "    mutation_rate = 0.005\n",
    "    population = randomly_mutate_population(population, mutation_rate)\n",
    "    \n",
    "    # Score best solution, and add to tracker\n",
    "    scores = calculate_fitness(population)\n",
    "    best_score = np.min(scores)/chromosome_length * 100\n",
    "    best_score_progress.append(best_score)\n",
    "\n",
    "# GA has completed required generation\n",
    "print ('End best score, % target: ', best_score)\n"
   ]
  },
  {
   "cell_type": "code",
   "execution_count": 15,
   "metadata": {},
   "outputs": [
    {
     "data": {
      "image/png": "[encoded data removed]",
      "text/plain": [
       "<Figure size 432x288 with 1 Axes>"
      ]
     },
     "metadata": {
      "needs_background": "light"
     },
     "output_type": "display_data"
    }
   ],
   "source": [
    "# Plot progress\n",
    "import matplotlib.pyplot as plt\n",
    "plt.plot(best_score_progress)\n",
    "plt.xlabel('Generation')\n",
    "plt.ylabel('Best score (% target)')\n",
    "plt.show()"
   ]
  },
  {
   "cell_type": "markdown",
   "metadata": {
    "colab_type": "text",
    "id": "9XGB6R5EiL4T"
   },
   "source": [
    "Adapted from: [https://pythonhealthcare.org/](https://pythonhealthcare.org/) prepared by Michael Allen \n",
    "m.allen@exeter.ac.uk"
   ]
  }
 ],
 "metadata": {
  "colab": {
   "collapsed_sections": [],
   "name": "Genetic2.ipynb",
   "provenance": []
  },
  "kernelspec": {
   "display_name": "Python 3",
   "language": "python",
   "name": "python3"
  },
  "language_info": {
   "codemirror_mode": {
    "name": "ipython",
    "version": 3
   },
   "file_extension": ".py",
   "mimetype": "text/x-python",
   "name": "python",
   "nbconvert_exporter": "python",
   "pygments_lexer": "ipython3",
   "version": "3.7.4"
  }
 },
 "nbformat": 4,
 "nbformat_minor": 1
}
